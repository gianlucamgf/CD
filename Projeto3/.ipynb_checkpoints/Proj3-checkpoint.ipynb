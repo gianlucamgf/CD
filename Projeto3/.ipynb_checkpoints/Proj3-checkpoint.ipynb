{
 "cells": [
  {
   "cell_type": "markdown",
   "metadata": {},
   "source": [
    "# Projeto 3\n",
    "## Gianluca e Marcelo - 2A\n",
    "\n",
    "#### Variável designada ao grupo: nível de percepção de corrupção\n",
    "\n",
    "Variáveis escolhidas\n",
    "<img src=\"var1.png\">\n",
    "<img src=\"var2.png\">\n",
    "<img src=\"var3.png\">"
   ]
  },
  {
   "cell_type": "code",
   "execution_count": 3,
   "metadata": {
    "collapsed": false
   },
   "outputs": [
    {
     "name": "stdout",
     "output_type": "stream",
     "text": [
      "Esperamos trabalhar no diretório\n",
      "/Users/Marcelo/Google Drive/Ciência dos Dados/GithubRepo/Projeto3\n"
     ]
    }
   ],
   "source": [
    "%matplotlib inline\n",
    "\n",
    "import os\n",
    "import matplotlib.pyplot as plt\n",
    "from mpl_toolkits.mplot3d import Axes3D\n",
    "from matplotlib import cm\n",
    "import pandas as pd\n",
    "import numpy as np\n",
    "\n",
    "import statsmodels.api as sm1 #Usa OLS com X como matriz de planejamento\n",
    "import statsmodels.formula.api as sm  #Usa OLS como no R\n",
    "\n",
    "print('Esperamos trabalhar no diretório')\n",
    "print(os.getcwd())"
   ]
  },
  {
   "cell_type": "code",
   "execution_count": 109,
   "metadata": {
    "collapsed": false
   },
   "outputs": [],
   "source": [
    "gdp = pd.read_excel('gdp.xlsx',index_col=0)\n",
    "life = pd.read_excel('life.xlsx',index_col=0)\n",
    "corruption = pd.read_excel('corruption.xlsx',index_col=0)\n",
    "\n"
   ]
  },
  {
   "cell_type": "code",
   "execution_count": 113,
   "metadata": {
    "collapsed": false
   },
   "outputs": [
    {
     "data": {
      "text/plain": [
       "(172, 3)"
      ]
     },
     "execution_count": 113,
     "metadata": {},
     "output_type": "execute_result"
    }
   ],
   "source": [
    "dados = pd.DataFrame()\n",
    "\n",
    "dados['gdp'] = gdp[\"2009_fix\"]\n",
    "dados['life'] = life[\"2009_fix\"]\n",
    "dados[\"corruption\"] = corruption[\"2009_fix\"]\n",
    "\n",
    "#Retirar NaN\n",
    "dados=dados[~np.isnan(dados.gdp)]\n",
    "dados=dados[~np.isnan(dados.life)]\n",
    "dados=dados[~np.isnan(dados.corruption)]\n",
    "dados.shape\n",
    "\n"
   ]
  },
  {
   "cell_type": "code",
   "execution_count": 114,
   "metadata": {
    "collapsed": false,
    "scrolled": true
   },
   "outputs": [
    {
     "data": {
      "text/html": [
       "<div>\n",
       "<table border=\"1\" class=\"dataframe\">\n",
       "  <thead>\n",
       "    <tr style=\"text-align: right;\">\n",
       "      <th></th>\n",
       "      <th>gdp</th>\n",
       "      <th>life</th>\n",
       "      <th>corruption</th>\n",
       "    </tr>\n",
       "    <tr>\n",
       "      <th>GDP per capita</th>\n",
       "      <th></th>\n",
       "      <th></th>\n",
       "      <th></th>\n",
       "    </tr>\n",
       "  </thead>\n",
       "  <tbody>\n",
       "    <tr>\n",
       "      <th>Afghanistan</th>\n",
       "      <td>1548</td>\n",
       "      <td>53.3</td>\n",
       "      <td>1.4</td>\n",
       "    </tr>\n",
       "    <tr>\n",
       "      <th>Albania</th>\n",
       "      <td>8994</td>\n",
       "      <td>77.0</td>\n",
       "      <td>3.3</td>\n",
       "    </tr>\n",
       "    <tr>\n",
       "      <th>Algeria</th>\n",
       "      <td>12285</td>\n",
       "      <td>75.7</td>\n",
       "      <td>2.9</td>\n",
       "    </tr>\n",
       "    <tr>\n",
       "      <th>Angola</th>\n",
       "      <td>7039</td>\n",
       "      <td>57.1</td>\n",
       "      <td>1.9</td>\n",
       "    </tr>\n",
       "    <tr>\n",
       "      <th>Argentina</th>\n",
       "      <td>14605</td>\n",
       "      <td>75.6</td>\n",
       "      <td>2.9</td>\n",
       "    </tr>\n",
       "  </tbody>\n",
       "</table>\n",
       "</div>"
      ],
      "text/plain": [
       "                  gdp  life  corruption\n",
       "GDP per capita                         \n",
       "Afghanistan      1548  53.3         1.4\n",
       "Albania          8994  77.0         3.3\n",
       "Algeria         12285  75.7         2.9\n",
       "Angola           7039  57.1         1.9\n",
       "Argentina       14605  75.6         2.9"
      ]
     },
     "execution_count": 114,
     "metadata": {},
     "output_type": "execute_result"
    }
   ],
   "source": [
    "# dados = gdp.join(fertility,how='outer', lsuffix='_caller', rsuffix='_other')\n",
    "dados.head()"
   ]
  },
  {
   "cell_type": "markdown",
   "metadata": {},
   "source": [
    "### Análise Descritiva"
   ]
  },
  {
   "cell_type": "code",
   "execution_count": 123,
   "metadata": {
    "collapsed": false
   },
   "outputs": [
    {
     "data": {
      "image/png": "[encoded data removed]",
      "text/plain": [
       "<matplotlib.figure.Figure at 0x119728a90>"
      ]
     },
     "metadata": {},
     "output_type": "display_data"
    }
   ],
   "source": [
    "f, ax = plt.subplots(2,2,figsize=(16,8))\n",
    "ax[0,0].scatter(dados.gdp, dados.corruption, alpha=0.7)  # Plot the raw data\n",
    "ax[0,0].set_xlabel(\"PIB per capita\")\n",
    "ax[0,0].set_ylabel(\"Nível de percepção de corrupção\")\n",
    "\n",
    "ax[0,1].scatter(dados.life, dados.corruption, alpha=0.7)  # Plot the raw data\n",
    "ax[0,1].set_xlabel(\"Expectativa de Vida\")\n",
    "ax[0,1].set_ylabel(\"Nível de percepção de corrupção\")\n",
    "# ax[0,1].set_xlim(0,100)\n",
    "\n",
    "\n",
    "plt.tight_layout(1)"
   ]
  },
  {
   "cell_type": "code",
   "execution_count": null,
   "metadata": {
    "collapsed": true
   },
   "outputs": [],
   "source": []
  }
 ],
 "metadata": {
  "anaconda-cloud": {},
  "kernelspec": {
   "display_name": "Python 3",
   "language": "python",
   "name": "python3"
  },
  "language_info": {
   "codemirror_mode": {
    "name": "ipython",
    "version": 3
   },
   "file_extension": ".py",
   "mimetype": "text/x-python",
   "name": "python",
   "nbconvert_exporter": "python",
   "pygments_lexer": "ipython3",
   "version": "3.5.2"
  }
 },
 "nbformat": 4,
 "nbformat_minor": 0
}
