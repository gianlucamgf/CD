{
 "cells": [
  {
   "cell_type": "markdown",
   "metadata": {},
   "source": [
    "# <font color='red'>Cauê Citrini Lacava e Gianluca Formicula</font>\n",
    "\n",
    "___\n",
    "# Atividade: Teoria da Probabilidade\n",
    "___\n",
    "\n",
    "## Aula 08\n",
    "\n",
    "**Referência de Leitura:**\n",
    "1. Magalhães e Lima (7ª. Edição): pág. 49 a 68 - Probabilidades\n",
    "\n",
    "**Hoje:**\n",
    "1. Conceito de Probabilidade\n",
    "4. Probabilidade Condicional\n",
    "3. Independência de eventos\n",
    "5. Teorema de Bayes. Simulação do problema de Monty Hall\n",
    "\n",
    "**Próxima aula:**\n",
    "1. Magalhães e Lima (7ª. Edição): pág. 69 a 104 - Variáveis aleatórias discretas\n",
    "___"
   ]
  },
  {
   "cell_type": "code",
   "execution_count": 2,
   "metadata": {
    "collapsed": true
   },
   "outputs": [],
   "source": [
    "%matplotlib inline\n",
    "import pandas as pd\n",
    "import matplotlib.pyplot as plt\n",
    "\n",
    "#Bibliotecas necessárias\n",
    "from numpy.random import shuffle, randint, choice\n"
   ]
  },
  {
   "cell_type": "markdown",
   "metadata": {},
   "source": [
    "## <font color='blue'>Exercício 1</font>\n",
    "\n",
    "Monte a simulação de 1000 jogadas de um dado idôneo de 6 faces. Faça o histograma (normalizado) da frequência.\n",
    "\n",
    "    a) Olhando o histograma, o que pode se dizer sobre as probabilidade de cada face?\n",
    "    \n",
    "    b) Discorra sobre o porque da probabilidade não ser exatamente igual à teórica."
   ]
  },
  {
   "cell_type": "code",
   "execution_count": 6,
   "metadata": {
    "collapsed": false
   },
   "outputs": [
    {
     "data": {
      "text/plain": [
       "(array([ 172.,  152.,  168.,  174.,  176.,  158.]),\n",
       " array([ 1.        ,  1.83333333,  2.66666667,  3.5       ,  4.33333333,\n",
       "         5.16666667,  6.        ]),\n",
       " <a list of 6 Patch objects>)"
      ]
     },
     "execution_count": 6,
     "metadata": {},
     "output_type": "execute_result"
    },
    {
     "data": {
      "image/png": "[encoded data removed]",
      "text/plain": [
       "<matplotlib.figure.Figure at 0x116235e10>"
      ]
     },
     "metadata": {},
     "output_type": "display_data"
    }
   ],
   "source": [
    "xs = randint(1,7,size=1000)\n",
    "\n",
    "plt.hist(xs, bins=6, color=\"red\")"
   ]
  },
  {
   "cell_type": "code",
   "execution_count": 3,
   "metadata": {
    "collapsed": false,
    "scrolled": true
   },
   "outputs": [
    {
     "data": {
      "image/png": "[encoded data removed]",
      "text/plain": [
       "<matplotlib.figure.Figure at 0x10aef3710>"
      ]
     },
     "metadata": {},
     "output_type": "display_data"
    }
   ],
   "source": [
    "x = pd.Series(randint(1,7,size=1000))\n",
    "\n",
    "plot = x.plot.hist(bins=6, color=\"red\")"
   ]
  },
  {
   "cell_type": "markdown",
   "metadata": {},
   "source": [
    "B) As frequências de cada face não condizem exatamente com as probabilidades teóricas, porque as probabilidades representam a chance de que o evento ocorra diante das opções verificadas, e na prática nem sempre a probabilidade relata exatamente o ocorrido, mas traz uma aproximação bastante satisfatória como visto acima."
   ]
  },
  {
   "cell_type": "markdown",
   "metadata": {},
   "source": [
    "___\n",
    "## <font color='blue'>Exercício 2</font>\n",
    "\n",
    "Ampliando o espaço amostral para as possíveis jogadas de 2 dados, analise as seguintes situações:\n",
    "    \n",
    "    a) Jogando os dois dados ao mesmo tempo. Qual é a probabilidade de obter soma 7?\n",
    "    \n",
    "    b) Jogando um dado e depois o segundo dado. Qual é a probabilidade de obter soma 7 já sabendo o resultado do primeiro? Compare o resultado com item anterior! Por que é igual ou diferente?"
   ]
  },
  {
   "cell_type": "code",
   "execution_count": 4,
   "metadata": {
    "collapsed": false
   },
   "outputs": [
    {
     "name": "stdout",
     "output_type": "stream",
     "text": [
      "A)\n",
      "0.154\n",
      "0.847\n"
     ]
    }
   ],
   "source": [
    "deu_7 = 0\n",
    "nao_deu = 0\n",
    "for i in range(1001):\n",
    "    dado1 = randint(1,7,1)\n",
    "    dado2 = randint(1,7,1)\n",
    "    soma = dado1 + dado2\n",
    "    if soma == 7:\n",
    "        deu_7 += 1\n",
    "    elif soma != 7:\n",
    "        nao_deu += 1\n",
    "    soma = 0\n",
    "    \n",
    "print(\"A)\")\n",
    "p7 = (deu_7/1000)\n",
    "print(p7)\n",
    "pn = (nao_deu/1000)\n",
    "print(pn)"
   ]
  },
  {
   "cell_type": "markdown",
   "metadata": {},
   "source": [
    "B) Os resultados serão iguais, devido ao fato de o lançamento do primeiro dado não alterar a em nada o lançamento do segundo."
   ]
  },
  {
   "cell_type": "markdown",
   "metadata": {},
   "source": [
    "___\n",
    "## <font color='blue'>Exercício 3</font>\n",
    "\n",
    "Simule 10000 vezes o problema de Monty Hall¹ , usar o seguinte algoritmo:\n",
    "\n",
    "\n",
    "* Repetir 10000 vezes:\n",
    "    * Sorteie um número de porta de 1 a 3 para ser a premiada\n",
    "    * Sorteie um número de porta de 1 a 3 para ser a porta escolhida.\n",
    "    * Sorteie um número de porta para ser a aberta, desde que não seja a premiada e nem a porta escolhida. Assim, se:\n",
    "        * porta premiada é 1 e a escolhida é 1, sorteie entre as portas 2 e 3 para ser aberta\n",
    "        * porta premiada é 1 e a escolhida é 2, com probabilidade 1 deve abrir a porta 3\n",
    "        * porta premiada é 1 e a escolhida é 3, com probabilidade 1 deve abrir a porta 2\n",
    "        * assim para demais casos...\n",
    "    \n",
    "    * Calcule quantas vezes indivíduo ganha ao trocar de porta. Ou seja, se:\n",
    "        * porta premiada é 1, a escolhida é 1 e aberta é 2 (ou 3), indivíduo perde se trocar de porta\n",
    "        * porta premiada é 1, a escolhida é 2 e aberta é 3, indivíduo ganha se trocar de porta\n",
    "        * porta premiada é 1, a escolhida é 3 e aberta é 2, indivíduo ganha se trocar de porta\n",
    "        * assim para demais casos...\n",
    "        \n",
    "    * Exibir quantas vezes em 10000, o indivíduo ganhou ao trocar de porta.\n",
    "\n",
    "Compare o resultado numérico com o resultado analítico obtido via Teorema de Bayes.\n",
    "\n",
    "¹https://en.wikipedia.org/wiki/Monty_Hall_problem e \n",
    "Exercício 1.4.5 de http://www.portalaction.com.br/probabilidades/14-eventos-independentes-e-probabilidade-condicional"
   ]
  },
  {
   "cell_type": "code",
   "execution_count": 7,
   "metadata": {
    "collapsed": false
   },
   "outputs": [
    {
     "name": "stdout",
     "output_type": "stream",
     "text": [
      "0.6672433275667243\n",
      "0.33275667243327567\n"
     ]
    }
   ],
   "source": [
    "ganha_se_trocar = 0\n",
    "perde_se_trocar = 0\n",
    "\n",
    "vezes = 100001\n",
    "\n",
    "for i in range(vezes):\n",
    "    premiada = randint(1,4)\n",
    "    escolhida = randint(1,4)\n",
    "    \n",
    "    if premiada == 1:\n",
    "        if escolhida == 1:\n",
    "            perde_se_trocar += 1\n",
    "        elif escolhida == 2:\n",
    "            ganha_se_trocar += 1\n",
    "        elif escolhida == 3:\n",
    "            ganha_se_trocar += 1\n",
    "            \n",
    "    if premiada == 2:\n",
    "        if escolhida == 1:\n",
    "            ganha_se_trocar += 1\n",
    "        elif escolhida == 2:\n",
    "            perde_se_trocar += 1\n",
    "        elif escolhida == 3:\n",
    "            ganha_se_trocar += 1\n",
    "    \n",
    "    if premiada == 3:\n",
    "        if escolhida == 1:\n",
    "            ganha_se_trocar += 1\n",
    "        elif escolhida == 2:\n",
    "            ganha_se_trocar += 1\n",
    "        elif escolhida == 3:\n",
    "            perde_se_trocar += 1\n",
    "\n",
    "prob_troca = ganha_se_trocar/vezes\n",
    "print(prob_troca)\n",
    "prob_fica = perde_se_trocar/vezes\n",
    "print(prob_fica)"
   ]
  },
  {
   "cell_type": "markdown",
   "metadata": {
    "collapsed": true
   },
   "source": [
    "Inicialmente a probabilidade de acertar a porta premiada é de 1/3 e as outras duas somam a probabilidade de 2/3 de estarem premiadas, no segundo momento o locutor abrira uma das portas não premiada, portanto a que restou somara 2/3 da probabilidade de estar premiada, desta forma trocar de porta no segundo momento sempre resultara no dobro de chance de acertar a porta premiada."
   ]
  }
 ],
 "metadata": {
  "anaconda-cloud": {},
  "kernelspec": {
   "display_name": "Python 3",
   "language": "python",
   "name": "python3"
  },
  "language_info": {
   "codemirror_mode": {
    "name": "ipython",
    "version": 3
   },
   "file_extension": ".py",
   "mimetype": "text/x-python",
   "name": "python",
   "nbconvert_exporter": "python",
   "pygments_lexer": "ipython3",
   "version": "3.5.1"
  }
 },
 "nbformat": 4,
 "nbformat_minor": 0
}
