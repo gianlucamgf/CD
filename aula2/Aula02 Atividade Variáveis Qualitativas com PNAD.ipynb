{
 "cells": [
  {
   "cell_type": "markdown",
   "metadata": {},
   "source": [
    "___\n",
    "# Atividade: Variáveis qualitativas com a PNAD (ALUNOS)\n",
    "___\n",
    "\n",
    "## Aula 02\n",
    "\n",
    "\n",
    "**Link úteis:**\n",
    "1.\tLeitura prévia necessária: Magalhães e Lima (7ª. Edição): pág. 9 a 16 – destacando para variáveis qualitativas.\n",
    "2.\t10 Minutes to Pandas: http://pandas.pydata.org/pandas-docs/stable/10min.html\n",
    "3.\tEssential Basic Functionality: http://pandas.pydata.org/pandas-docs/stable/basics.html\n",
    "4.  Estude a aula `Aula02 Análise Exploratoria Variáveis Qualitativas-ALUNOS.ipynb`, o qual contém uma introdução ao Jupyter Notebook. A publicação dessa aula tem como objetivo auxiliá-lo, caso queira, no desenvolvimento dos seus próximos programas, como esta atividade.\n",
    "\n",
    "**Hoje:**\n",
    "1.\tAnalisar variáveis qualitativas de forma uni e bivariadas utilizando tabelas de frequências e gráficos de barras e de pizza (ou setor).\n",
    "2.  Trabalhar com a base de dados da PNAD 2013 - Pesquisa Nacional por Amostra de Domicílios\n",
    "\n",
    "**Próxima aula:**\n",
    "1.\tLeitura prévia necessária: Magalhães e Lima (7ª. Edição): pág. 9 a 17 – destacando para variáveis quantitativas; pág. 106 e 107 (Definição 4.1 e Exemplo 4.1).\n",
    "\n",
    "___\n"
   ]
  },
  {
   "cell_type": "markdown",
   "metadata": {},
   "source": [
    "___\n",
    "## <font color='blue'>PNAD 2013 – PESQUISA NACIONAL POR AMOSTRA DE DOMICÍLIOS</font>\n",
    "\n",
    "**Base de dados reduzida: ** `pes2013A.txt` (75 MB)\n",
    "[Acesse a base de dados aqui: https://dl.dropboxusercontent.com/u/65763596/Aula02/pes2013A.txt] \n",
    "\n",
    "**Dicionário das variáveis: ** `Dicionário de variáveis de pessoas - PNAD 2013.xlsx`\n",
    "[Acesse dicionário aqui: https://dl.dropboxusercontent.com/u/65763596/Aula02/Dicion%C3%A1rio%20de%20vari%C3%A1veis%20de%20pessoas%20-%20PNAD%202013.xls]\n",
    "\n",
    "\n",
    "Muitos especialistas na área de negócios dizem que empresários mais bem sucedidos são aqueles que fazem um planejamento antes de começar seu próprio negócio. Nessa visão, imagine que o Sr. Gold tenha como grande objetivo abrir uma nova faculdade e para isso deseja estudar o perfil do estudante que cursa ensino médio ou pré-vestibular e do que cursa ensino superior. \n",
    "\n",
    "Assuma que as variáveis de interesse a respeito dos estudantes sejam relativamente as mesmas de 2013 até o momento atual. Nesse caso, seja criativo para ajudar o Sr. Gold que deseja abrir seu negócio, mas não tem certeza sobre quais variáveis o interessam. \n",
    "\n",
    "Vocês podem ajudá-lo?!  \n",
    "\n",
    "As variáveis a seguir devem fazer parte da sua análise:\n",
    "\n",
    "* V0302: sexo\n",
    "* V0404: cor ou raça\n",
    "* V6002: rede de ensino\n",
    "* V4802: nível de ensino e grupos de séries do ensino fundamental que frequentavam (todos os estudantes)\n",
    "\n",
    "** Crie uma variável com região do indivíduo amostrado considerando a variável `UF` que define o estado e também trabalhe com essa nova variável em suas análises. ** \n",
    "\n",
    "** Escolha mais pelo menos DUAS variáveis qualitativas para completar sua análise!! **\n",
    "\n",
    "Faça uma análise exploratória apenas com as variáveis qualitativas com foco no objetivo do Sr. Gold.\n",
    "\n",
    "Sua análise deve conter pelo menos uma das seguintes visualizações:\n",
    "\n",
    "1. Gráfico de colunas (bar) e setor (pie) com as frequências relativas cadas categorias das variáveis qualitativas.\n",
    "2. Tabela cruzada entre pares de variaveis qualitativas. Montar o gráfico de colunas. Repetir o processo habilitando a opção \"stacked=True\".\n",
    "\n",
    "\n",
    "___\n",
    "\n",
    "\n",
    "\n",
    "<font color='red'>\n",
    "Crie um repositório chamado CD em seu Github\n",
    "</font>\n",
    "\n",
    "\n",
    "Neste repositório, salve seu trabalho numa pasta chamada aula2\n",
    "\n",
    "Por exemplo, se seu login for *pikachu* o projeto vai estar na pasta:\n",
    "\n",
    "https://github.com/<font color=red>pikachu/CD/aula2</font>\n",
    "\n",
    "\n",
    "\n",
    "## <font color='red'>Terça-feira (dia 16/08), no horário de atendimento da sua turma, deverá apresentar aos NINJAS!!</font>\n",
    "___"
   ]
  },
  {
   "cell_type": "code",
   "execution_count": 4,
   "metadata": {
    "collapsed": false
   },
   "outputs": [],
   "source": [
    "%matplotlib inline\n",
    "import pandas as pd\n",
    "import matplotlib.pyplot as plt\n",
    "import os"
   ]
  },
  {
   "cell_type": "code",
   "execution_count": null,
   "metadata": {
    "collapsed": false
   },
   "outputs": [],
   "source": [
    "print('Esperamos trabalhar no diretório')\n",
    "print(os.getcwd())"
   ]
  },
  {
   "cell_type": "code",
   "execution_count": 6,
   "metadata": {
    "collapsed": false
   },
   "outputs": [],
   "source": [
    "dados = pd.read_excel(\"PNAD_2013_A.xlsx\")\n"
   ]
  },
  {
   "cell_type": "code",
   "execution_count": 42,
   "metadata": {
    "collapsed": false
   },
   "outputs": [
    {
     "name": "stderr",
     "output_type": "stream",
     "text": [
      "//anaconda/lib/python3.5/site-packages/ipykernel/__main__.py:2: SettingWithCopyWarning: \n",
      "A value is trying to be set on a copy of a slice from a DataFrame\n",
      "\n",
      "See the caveats in the documentation: http://pandas.pydata.org/pandas-docs/stable/indexing.html#indexing-view-versus-copy\n",
      "  from ipykernel import kernelapp as app\n",
      "//anaconda/lib/python3.5/site-packages/ipykernel/__main__.py:3: SettingWithCopyWarning: \n",
      "A value is trying to be set on a copy of a slice from a DataFrame\n",
      "\n",
      "See the caveats in the documentation: http://pandas.pydata.org/pandas-docs/stable/indexing.html#indexing-view-versus-copy\n",
      "  app.launch_new_instance()\n",
      "//anaconda/lib/python3.5/site-packages/ipykernel/__main__.py:4: SettingWithCopyWarning: \n",
      "A value is trying to be set on a copy of a slice from a DataFrame\n",
      "\n",
      "See the caveats in the documentation: http://pandas.pydata.org/pandas-docs/stable/indexing.html#indexing-view-versus-copy\n",
      "//anaconda/lib/python3.5/site-packages/ipykernel/__main__.py:5: SettingWithCopyWarning: \n",
      "A value is trying to be set on a copy of a slice from a DataFrame\n",
      "\n",
      "See the caveats in the documentation: http://pandas.pydata.org/pandas-docs/stable/indexing.html#indexing-view-versus-copy\n",
      "//anaconda/lib/python3.5/site-packages/ipykernel/__main__.py:6: SettingWithCopyWarning: \n",
      "A value is trying to be set on a copy of a slice from a DataFrame\n",
      "\n",
      "See the caveats in the documentation: http://pandas.pydata.org/pandas-docs/stable/indexing.html#indexing-view-versus-copy\n"
     ]
    }
   ],
   "source": [
    "dados[\"Regiao\"] = dados.UF\n",
    "dados.Regiao[dados.UF <=16]=\"Norte\"\n",
    "dados.Regiao[(dados.UF >=17) & (dados.UF <=29)]=\"Nordeste\"\n",
    "dados.Regiao[(dados.UF >=31) & (dados.UF <=35)]=\"Sudeste\"\n",
    "dados.Regiao[(dados.UF >=41) & (dados.UF <=43)]=\"Sul\"\n",
    "dados.Regiao[(dados.UF >=50) & (dados.UF <=53)]=\"Centro-Oeste\""
   ]
  },
  {
   "cell_type": "code",
   "execution_count": 8,
   "metadata": {
    "collapsed": false
   },
   "outputs": [],
   "source": [
    "jovens = dados[(dados.V8005 >= 15) & (dados.V8005 <= 27)]\n",
    "homens = jovens[(jovens.V0302 == 2)]\n",
    "mulheres = jovens[(jovens.V0302 == 4)]\n",
    "homens_brancos = homens[(homens.V0404 == 2)]\n",
    "homens_negros = homens[(homens.V0404 == 4)]\n",
    "mulheres_brancas = mulheres[(mulheres.V0404 == 2)]\n",
    "mulheres_negras = mulheres[(mulheres.V0404 == 4)]\n",
    "homens_interesse = homens[(homens.V4802 <= 9)]\n",
    "mulheres_interesse = mulheres[(mulheres.V4802 <= 9)]"
   ]
  },
  {
   "cell_type": "code",
   "execution_count": 9,
   "metadata": {
    "collapsed": false
   },
   "outputs": [],
   "source": [
    "homens_final = homens_interesse.Regiao.value_counts(True) *100\n",
    "mulheres_final = mulheres_interesse.Regiao.value_counts(True) *100"
   ]
  },
  {
   "cell_type": "code",
   "execution_count": 10,
   "metadata": {
    "collapsed": false
   },
   "outputs": [
    {
     "data": {
      "text/plain": [
       "<matplotlib.axes._subplots.AxesSubplot at 0x13ab4a4e0>"
      ]
     },
     "execution_count": 10,
     "metadata": {},
     "output_type": "execute_result"
    },
    {
     "data": {
      "image/png": "[encoded data removed]",
      "text/plain": [
       "<matplotlib.figure.Figure at 0x11265f630>"
      ]
     },
     "metadata": {},
     "output_type": "display_data"
    }
   ],
   "source": [
    "# gráfico mostra o percentual de mulheres e homens que não terminaram, ou não foram além, do ensino fundamental, por estado\n",
    "mulheres_final.plot(kind='bar',legend=False,color=('red' ,'blue'),title='Frequência relativa de Mulheres Com Pouco Estudo por UF')"
   ]
  },
  {
   "cell_type": "code",
   "execution_count": 19,
   "metadata": {
    "collapsed": false,
    "scrolled": true
   },
   "outputs": [
    {
     "data": {
      "text/plain": [
       "<matplotlib.axes._subplots.AxesSubplot at 0x11cef4048>"
      ]
     },
     "execution_count": 19,
     "metadata": {},
     "output_type": "execute_result"
    },
    {
     "data": {
      "image/png": "[encoded data removed]",
      "text/plain": [
       "<matplotlib.figure.Figure at 0x11cefe128>"
      ]
     },
     "metadata": {},
     "output_type": "display_data"
    }
   ],
   "source": [
    "homens_final.plot(kind='bar',legend=False,color=('red' ,'blue'),title='Frequência relativa de Homens Com Pouco Estudo por UF')"
   ]
  },
  {
   "cell_type": "code",
   "execution_count": 17,
   "metadata": {
    "collapsed": false
   },
   "outputs": [
    {
     "data": {
      "text/plain": [
       "<matplotlib.axes._subplots.AxesSubplot at 0x11ccf8908>"
      ]
     },
     "execution_count": 17,
     "metadata": {},
     "output_type": "execute_result"
    },
    {
     "data": {
      "image/png": "[encoded data removed]",
      "text/plain": [
       "<matplotlib.figure.Figure at 0x11cd02cf8>"
      ]
     },
     "metadata": {},
     "output_type": "display_data"
    }
   ],
   "source": [
    "homens_final.plot(kind='pie',legend=False,title='Frequência relativa de Homens Com Pouco Estudo por UF')"
   ]
  },
  {
   "cell_type": "code",
   "execution_count": 18,
   "metadata": {
    "collapsed": false
   },
   "outputs": [
    {
     "data": {
      "text/plain": [
       "<matplotlib.axes._subplots.AxesSubplot at 0x11cce1780>"
      ]
     },
     "execution_count": 18,
     "metadata": {},
     "output_type": "execute_result"
    },
    {
     "data": {
      "image/png": "[encoded data removed]",
      "text/plain": [
       "<matplotlib.figure.Figure at 0x11cd60080>"
      ]
     },
     "metadata": {},
     "output_type": "display_data"
    }
   ],
   "source": [
    "mulheres_final.plot(kind='pie',legend=False,title='Frequência relativa de Mulheres Com Pouco Estudo por UF')"
   ]
  },
  {
   "cell_type": "code",
   "execution_count": 36,
   "metadata": {
    "collapsed": false
   },
   "outputs": [
    {
     "data": {
      "text/html": [
       "<div>\n",
       "<table border=\"1\" class=\"dataframe\">\n",
       "  <thead>\n",
       "    <tr style=\"text-align: right;\">\n",
       "      <th>V0404</th>\n",
       "      <th>Indígena</th>\n",
       "      <th>Branca</th>\n",
       "      <th>Preta</th>\n",
       "      <th>Amarela</th>\n",
       "      <th>Parda</th>\n",
       "      <th>Não declarado</th>\n",
       "    </tr>\n",
       "    <tr>\n",
       "      <th>V4802</th>\n",
       "      <th></th>\n",
       "      <th></th>\n",
       "      <th></th>\n",
       "      <th></th>\n",
       "      <th></th>\n",
       "      <th></th>\n",
       "    </tr>\n",
       "  </thead>\n",
       "  <tbody>\n",
       "    <tr>\n",
       "      <th>3</th>\n",
       "      <td>0</td>\n",
       "      <td>16</td>\n",
       "      <td>7</td>\n",
       "      <td>0</td>\n",
       "      <td>23</td>\n",
       "      <td>0</td>\n",
       "    </tr>\n",
       "    <tr>\n",
       "      <th>4</th>\n",
       "      <td>3</td>\n",
       "      <td>25</td>\n",
       "      <td>9</td>\n",
       "      <td>0</td>\n",
       "      <td>47</td>\n",
       "      <td>0</td>\n",
       "    </tr>\n",
       "    <tr>\n",
       "      <th>5</th>\n",
       "      <td>6</td>\n",
       "      <td>154</td>\n",
       "      <td>44</td>\n",
       "      <td>0</td>\n",
       "      <td>275</td>\n",
       "      <td>0</td>\n",
       "    </tr>\n",
       "    <tr>\n",
       "      <th>6</th>\n",
       "      <td>0</td>\n",
       "      <td>9</td>\n",
       "      <td>1</td>\n",
       "      <td>0</td>\n",
       "      <td>13</td>\n",
       "      <td>0</td>\n",
       "    </tr>\n",
       "    <tr>\n",
       "      <th>7</th>\n",
       "      <td>13</td>\n",
       "      <td>70</td>\n",
       "      <td>42</td>\n",
       "      <td>1</td>\n",
       "      <td>206</td>\n",
       "      <td>0</td>\n",
       "    </tr>\n",
       "    <tr>\n",
       "      <th>8</th>\n",
       "      <td>39</td>\n",
       "      <td>799</td>\n",
       "      <td>304</td>\n",
       "      <td>6</td>\n",
       "      <td>1956</td>\n",
       "      <td>0</td>\n",
       "    </tr>\n",
       "    <tr>\n",
       "      <th>9</th>\n",
       "      <td>1</td>\n",
       "      <td>34</td>\n",
       "      <td>12</td>\n",
       "      <td>0</td>\n",
       "      <td>65</td>\n",
       "      <td>0</td>\n",
       "    </tr>\n",
       "    <tr>\n",
       "      <th>10</th>\n",
       "      <td>23</td>\n",
       "      <td>2964</td>\n",
       "      <td>534</td>\n",
       "      <td>33</td>\n",
       "      <td>3830</td>\n",
       "      <td>0</td>\n",
       "    </tr>\n",
       "    <tr>\n",
       "      <th>11</th>\n",
       "      <td>10</td>\n",
       "      <td>2153</td>\n",
       "      <td>232</td>\n",
       "      <td>27</td>\n",
       "      <td>1377</td>\n",
       "      <td>0</td>\n",
       "    </tr>\n",
       "  </tbody>\n",
       "</table>\n",
       "</div>"
      ],
      "text/plain": [
       "V0404  Indígena  Branca  Preta  Amarela  Parda  Não declarado\n",
       "V4802                                                        \n",
       "3             0      16      7        0     23              0\n",
       "4             3      25      9        0     47              0\n",
       "5             6     154     44        0    275              0\n",
       "6             0       9      1        0     13              0\n",
       "7            13      70     42        1    206              0\n",
       "8            39     799    304        6   1956              0\n",
       "9             1      34     12        0     65              0\n",
       "10           23    2964    534       33   3830              0\n",
       "11           10    2153    232       27   1377              0"
      ]
     },
     "execution_count": 36,
     "metadata": {},
     "output_type": "execute_result"
    }
   ],
   "source": [
    "#crosstab entre homens que não terminaram o ensino e sua raça\n",
    "cor = homens.V0404.astype('category',ordered=True)\n",
    "cor.cat.categories = (\"Indígena\",\"Branca\",\"Preta\",\"Amarela\",\"Parda\",\"Não declarado\")\n",
    "pd.crosstab(homens.V4802,cor)"
   ]
  },
  {
   "cell_type": "code",
   "execution_count": 34,
   "metadata": {
    "collapsed": false
   },
   "outputs": [
    {
     "data": {
      "text/html": [
       "<div>\n",
       "<table border=\"1\" class=\"dataframe\">\n",
       "  <thead>\n",
       "    <tr style=\"text-align: right;\">\n",
       "      <th>V0404</th>\n",
       "      <th>Indígena</th>\n",
       "      <th>Branca</th>\n",
       "      <th>Preta</th>\n",
       "      <th>Amarela</th>\n",
       "      <th>Parda</th>\n",
       "      <th>Não declarado</th>\n",
       "    </tr>\n",
       "    <tr>\n",
       "      <th>V4802</th>\n",
       "      <th></th>\n",
       "      <th></th>\n",
       "      <th></th>\n",
       "      <th></th>\n",
       "      <th></th>\n",
       "      <th></th>\n",
       "    </tr>\n",
       "  </thead>\n",
       "  <tbody>\n",
       "    <tr>\n",
       "      <th>3</th>\n",
       "      <td>0</td>\n",
       "      <td>12</td>\n",
       "      <td>2</td>\n",
       "      <td>0</td>\n",
       "      <td>16</td>\n",
       "      <td>0</td>\n",
       "    </tr>\n",
       "    <tr>\n",
       "      <th>4</th>\n",
       "      <td>1</td>\n",
       "      <td>29</td>\n",
       "      <td>9</td>\n",
       "      <td>0</td>\n",
       "      <td>34</td>\n",
       "      <td>0</td>\n",
       "    </tr>\n",
       "    <tr>\n",
       "      <th>5</th>\n",
       "      <td>2</td>\n",
       "      <td>115</td>\n",
       "      <td>37</td>\n",
       "      <td>3</td>\n",
       "      <td>156</td>\n",
       "      <td>0</td>\n",
       "    </tr>\n",
       "    <tr>\n",
       "      <th>6</th>\n",
       "      <td>0</td>\n",
       "      <td>7</td>\n",
       "      <td>2</td>\n",
       "      <td>0</td>\n",
       "      <td>11</td>\n",
       "      <td>0</td>\n",
       "    </tr>\n",
       "    <tr>\n",
       "      <th>7</th>\n",
       "      <td>10</td>\n",
       "      <td>51</td>\n",
       "      <td>14</td>\n",
       "      <td>0</td>\n",
       "      <td>121</td>\n",
       "      <td>0</td>\n",
       "    </tr>\n",
       "    <tr>\n",
       "      <th>8</th>\n",
       "      <td>32</td>\n",
       "      <td>645</td>\n",
       "      <td>190</td>\n",
       "      <td>8</td>\n",
       "      <td>1299</td>\n",
       "      <td>0</td>\n",
       "    </tr>\n",
       "    <tr>\n",
       "      <th>9</th>\n",
       "      <td>0</td>\n",
       "      <td>19</td>\n",
       "      <td>7</td>\n",
       "      <td>0</td>\n",
       "      <td>65</td>\n",
       "      <td>0</td>\n",
       "    </tr>\n",
       "    <tr>\n",
       "      <th>10</th>\n",
       "      <td>29</td>\n",
       "      <td>3288</td>\n",
       "      <td>606</td>\n",
       "      <td>31</td>\n",
       "      <td>4230</td>\n",
       "      <td>0</td>\n",
       "    </tr>\n",
       "    <tr>\n",
       "      <th>11</th>\n",
       "      <td>11</td>\n",
       "      <td>2883</td>\n",
       "      <td>266</td>\n",
       "      <td>22</td>\n",
       "      <td>1842</td>\n",
       "      <td>0</td>\n",
       "    </tr>\n",
       "  </tbody>\n",
       "</table>\n",
       "</div>"
      ],
      "text/plain": [
       "V0404  Indígena  Branca  Preta  Amarela  Parda  Não declarado\n",
       "V4802                                                        \n",
       "3             0      12      2        0     16              0\n",
       "4             1      29      9        0     34              0\n",
       "5             2     115     37        3    156              0\n",
       "6             0       7      2        0     11              0\n",
       "7            10      51     14        0    121              0\n",
       "8            32     645    190        8   1299              0\n",
       "9             0      19      7        0     65              0\n",
       "10           29    3288    606       31   4230              0\n",
       "11           11    2883    266       22   1842              0"
      ]
     },
     "execution_count": 34,
     "metadata": {},
     "output_type": "execute_result"
    }
   ],
   "source": [
    "# crosstab entre escolaridade de mulheres e sua raça\n",
    "cor = mulheres.V0404.astype('category',ordered=True)\n",
    "cor.cat.categories = (\"Indígena\",\"Branca\",\"Preta\",\"Amarela\",\"Parda\",\"Não declarado\")\n",
    "pd.crosstab(mulheres.V4802,cor)"
   ]
  },
  {
   "cell_type": "markdown",
   "metadata": {
    "collapsed": true
   },
   "source": [
    "Conclusão:\n",
    "\n",
    "1- Concluímos que uma seleção eficiente de variáveis facilita muito o trabalho a ser feito. O maior tempo gasto nesse trabalho foi aquele gasto nessa seleção.\n",
    "\n",
    "2- Para chegar à segunda conclusão, partimos da premissa de que homens e mulheres que não foram capazes de chegar ao ensino médio, viriam a ocupar posições trabalhistas menos requisitadas na população. Selecionamos as atividades remuneradas que julgamos serem aquelas que pagavam pior, e, por fim, plotamos um gráfico da porcentagem de homens e mulheres que ocupavam essas posições por Estado. Ao sr Gold seria interessante abrir uma faculdade no Estado que apresentasse a menor porcentagem em nossos gráficos, uma vez que a porcentagem de alunos que terminam o ensino, e tendem a ocupar posições mais bem remuneradas devido ao bom nível de ensino superior é mais elevado. Por curiosidade, ainda gostariamos de saber quais as raças que usufruem melhor do sistema educacional brasileiro, e para isso fizemos os crosstabs acima, para homens e mulheres.\n",
    "\n",
    "3- Graças ao raciocínio acima, fomos capazes de afirmar que, de acorodo com o que julgamos uma região propensa à abertura de uma faculdade, a região Centro-Oeste é a melhor para o Sr Gold abrir seu negócio.\n",
    "\n"
   ]
  },
  {
   "cell_type": "markdown",
   "metadata": {},
   "source": [
    "## Segunda Entrega : Variáveis Quantitativas"
   ]
  },
  {
   "cell_type": "code",
   "execution_count": 75,
   "metadata": {
    "collapsed": true
   },
   "outputs": [],
   "source": [
    "dados_limpo = dados[dados.V4742 != 999999999999]"
   ]
  },
  {
   "cell_type": "code",
   "execution_count": 89,
   "metadata": {
    "collapsed": false
   },
   "outputs": [
    {
     "name": "stderr",
     "output_type": "stream",
     "text": [
      "//anaconda/lib/python3.5/site-packages/ipykernel/__main__.py:1: FutureWarning: \n",
      "The default value for 'return_type' will change to 'axes' in a future release.\n",
      " To use the future behavior now, set return_type='axes'.\n",
      " To keep the previous behavior and silence this warning, set return_type='dict'.\n",
      "  if __name__ == '__main__':\n"
     ]
    },
    {
     "data": {
      "text/plain": [
       "{'boxes': [<matplotlib.lines.Line2D at 0x120dcacc0>,\n",
       "  <matplotlib.lines.Line2D at 0x11f516eb8>,\n",
       "  <matplotlib.lines.Line2D at 0x11f505588>,\n",
       "  <matplotlib.lines.Line2D at 0x114d1bc18>,\n",
       "  <matplotlib.lines.Line2D at 0x114d0a2e8>,\n",
       "  <matplotlib.lines.Line2D at 0x114d336a0>,\n",
       "  <matplotlib.lines.Line2D at 0x120da8be0>,\n",
       "  <matplotlib.lines.Line2D at 0x11ddc67b8>,\n",
       "  <matplotlib.lines.Line2D at 0x11dde0ef0>,\n",
       "  <matplotlib.lines.Line2D at 0x11ddb1a58>,\n",
       "  <matplotlib.lines.Line2D at 0x11e8263c8>,\n",
       "  <matplotlib.lines.Line2D at 0x11e837cf8>,\n",
       "  <matplotlib.lines.Line2D at 0x11e84d668>,\n",
       "  <matplotlib.lines.Line2D at 0x114f15f28>,\n",
       "  <matplotlib.lines.Line2D at 0x114f2c908>,\n",
       "  <matplotlib.lines.Line2D at 0x114f43198>,\n",
       "  <matplotlib.lines.Line2D at 0x114f55940>,\n",
       "  <matplotlib.lines.Line2D at 0x114f6d128>,\n",
       "  <matplotlib.lines.Line2D at 0x114f7e8d0>,\n",
       "  <matplotlib.lines.Line2D at 0x11ddf40b8>,\n",
       "  <matplotlib.lines.Line2D at 0x11de04860>,\n",
       "  <matplotlib.lines.Line2D at 0x11de15f98>,\n",
       "  <matplotlib.lines.Line2D at 0x11de2c7f0>,\n",
       "  <matplotlib.lines.Line2D at 0x11f4c0f28>,\n",
       "  <matplotlib.lines.Line2D at 0x11f4d7780>,\n",
       "  <matplotlib.lines.Line2D at 0x11f4eaf28>,\n",
       "  <matplotlib.lines.Line2D at 0x11fcd8710>,\n",
       "  <matplotlib.lines.Line2D at 0x11fce9eb8>,\n",
       "  <matplotlib.lines.Line2D at 0x11fcff6a0>,\n",
       "  <matplotlib.lines.Line2D at 0x11fd13e48>,\n",
       "  <matplotlib.lines.Line2D at 0x11fd2a630>,\n",
       "  <matplotlib.lines.Line2D at 0x11fd3cdd8>,\n",
       "  <matplotlib.lines.Line2D at 0x120d265c0>,\n",
       "  <matplotlib.lines.Line2D at 0x120d38d68>,\n",
       "  <matplotlib.lines.Line2D at 0x120d4e550>,\n",
       "  <matplotlib.lines.Line2D at 0x1213cfcf8>,\n",
       "  <matplotlib.lines.Line2D at 0x1213e34e0>,\n",
       "  <matplotlib.lines.Line2D at 0x1213f7c88>,\n",
       "  <matplotlib.lines.Line2D at 0x129ff1470>,\n",
       "  <matplotlib.lines.Line2D at 0x12a001c18>,\n",
       "  <matplotlib.lines.Line2D at 0x12a018400>,\n",
       "  <matplotlib.lines.Line2D at 0x12a02cba8>,\n",
       "  <matplotlib.lines.Line2D at 0x12a043390>,\n",
       "  <matplotlib.lines.Line2D at 0x12a055b38>,\n",
       "  <matplotlib.lines.Line2D at 0x12a06d320>,\n",
       "  <matplotlib.lines.Line2D at 0x12a07eac8>,\n",
       "  <matplotlib.lines.Line2D at 0x12a0952b0>,\n",
       "  <matplotlib.lines.Line2D at 0x12a0a7a58>,\n",
       "  <matplotlib.lines.Line2D at 0x12a0be240>,\n",
       "  <matplotlib.lines.Line2D at 0x12a0d19e8>,\n",
       "  <matplotlib.lines.Line2D at 0x12a0e81d0>,\n",
       "  <matplotlib.lines.Line2D at 0x12a0f9978>,\n",
       "  <matplotlib.lines.Line2D at 0x12a111160>,\n",
       "  <matplotlib.lines.Line2D at 0x12a123908>,\n",
       "  <matplotlib.lines.Line2D at 0x12a13b0f0>,\n",
       "  <matplotlib.lines.Line2D at 0x12a14d898>,\n",
       "  <matplotlib.lines.Line2D at 0x12a15dfd0>,\n",
       "  <matplotlib.lines.Line2D at 0x12a176828>,\n",
       "  <matplotlib.lines.Line2D at 0x12a188f60>,\n",
       "  <matplotlib.lines.Line2D at 0x12a19f7b8>,\n",
       "  <matplotlib.lines.Line2D at 0x12a1aff60>,\n",
       "  <matplotlib.lines.Line2D at 0x12a1c8748>,\n",
       "  <matplotlib.lines.Line2D at 0x12a1daef0>,\n",
       "  <matplotlib.lines.Line2D at 0x12a1f06d8>,\n",
       "  <matplotlib.lines.Line2D at 0x12a203e80>,\n",
       "  <matplotlib.lines.Line2D at 0x12a21a668>,\n",
       "  <matplotlib.lines.Line2D at 0x12b165e10>,\n",
       "  <matplotlib.lines.Line2D at 0x12b17e5f8>,\n",
       "  <matplotlib.lines.Line2D at 0x12b18eda0>,\n",
       "  <matplotlib.lines.Line2D at 0x12b1a6588>,\n",
       "  <matplotlib.lines.Line2D at 0x12b1b8d30>,\n",
       "  <matplotlib.lines.Line2D at 0x12b1ce518>],\n",
       " 'caps': [<matplotlib.lines.Line2D at 0x11f521898>,\n",
       "  <matplotlib.lines.Line2D at 0x11f521080>,\n",
       "  <matplotlib.lines.Line2D at 0x11f510048>,\n",
       "  <matplotlib.lines.Line2D at 0x11f50b710>,\n",
       "  <matplotlib.lines.Line2D at 0x11f4fa5f8>,\n",
       "  <matplotlib.lines.Line2D at 0x11f4fa4e0>,\n",
       "  <matplotlib.lines.Line2D at 0x114d133c8>,\n",
       "  <matplotlib.lines.Line2D at 0x114d10470>,\n",
       "  <matplotlib.lines.Line2D at 0x114cff358>,\n",
       "  <matplotlib.lines.Line2D at 0x114cff240>,\n",
       "  <matplotlib.lines.Line2D at 0x114d2bef0>,\n",
       "  <matplotlib.lines.Line2D at 0x114d27e48>,\n",
       "  <matplotlib.lines.Line2D at 0x114d22dd8>,\n",
       "  <matplotlib.lines.Line2D at 0x114d22ef0>,\n",
       "  <matplotlib.lines.Line2D at 0x11ddd3748>,\n",
       "  <matplotlib.lines.Line2D at 0x11ddd3f60>,\n",
       "  <matplotlib.lines.Line2D at 0x11dde4080>,\n",
       "  <matplotlib.lines.Line2D at 0x11ddea748>,\n",
       "  <matplotlib.lines.Line2D at 0x11e81b9e8>,\n",
       "  <matplotlib.lines.Line2D at 0x11e81bb00>,\n",
       "  <matplotlib.lines.Line2D at 0x11e82bc18>,\n",
       "  <matplotlib.lines.Line2D at 0x11e82fb70>,\n",
       "  <matplotlib.lines.Line2D at 0x11e842c88>,\n",
       "  <matplotlib.lines.Line2D at 0x11e842da0>,\n",
       "  <matplotlib.lines.Line2D at 0x11e852eb8>,\n",
       "  <matplotlib.lines.Line2D at 0x11e857e10>,\n",
       "  <matplotlib.lines.Line2D at 0x114f20f28>,\n",
       "  <matplotlib.lines.Line2D at 0x114f27780>,\n",
       "  <matplotlib.lines.Line2D at 0x114f38860>,\n",
       "  <matplotlib.lines.Line2D at 0x114f38f60>,\n",
       "  <matplotlib.lines.Line2D at 0x114f49f28>,\n",
       "  <matplotlib.lines.Line2D at 0x114f4f828>,\n",
       "  <matplotlib.lines.Line2D at 0x114f627f0>,\n",
       "  <matplotlib.lines.Line2D at 0x114f62fd0>,\n",
       "  <matplotlib.lines.Line2D at 0x114f73f98>,\n",
       "  <matplotlib.lines.Line2D at 0x114f797b8>,\n",
       "  <matplotlib.lines.Line2D at 0x114f8b780>,\n",
       "  <matplotlib.lines.Line2D at 0x114f8bf60>,\n",
       "  <matplotlib.lines.Line2D at 0x11ddf9f28>,\n",
       "  <matplotlib.lines.Line2D at 0x11ddfe748>,\n",
       "  <matplotlib.lines.Line2D at 0x11de10710>,\n",
       "  <matplotlib.lines.Line2D at 0x11de10ef0>,\n",
       "  <matplotlib.lines.Line2D at 0x11de22eb8>,\n",
       "  <matplotlib.lines.Line2D at 0x11de22fd0>,\n",
       "  <matplotlib.lines.Line2D at 0x11f4b5f98>,\n",
       "  <matplotlib.lines.Line2D at 0x11f4b9e80>,\n",
       "  <matplotlib.lines.Line2D at 0x11f4cce48>,\n",
       "  <matplotlib.lines.Line2D at 0x11f4ccf60>,\n",
       "  <matplotlib.lines.Line2D at 0x11f4def28>,\n",
       "  <matplotlib.lines.Line2D at 0x11f4e3e10>,\n",
       "  <matplotlib.lines.Line2D at 0x11fccadd8>,\n",
       "  <matplotlib.lines.Line2D at 0x11fccaef0>,\n",
       "  <matplotlib.lines.Line2D at 0x11fcdceb8>,\n",
       "  <matplotlib.lines.Line2D at 0x11fce2da0>,\n",
       "  <matplotlib.lines.Line2D at 0x11fcf5d68>,\n",
       "  <matplotlib.lines.Line2D at 0x11fcf5e80>,\n",
       "  <matplotlib.lines.Line2D at 0x11fd05e48>,\n",
       "  <matplotlib.lines.Line2D at 0x11fd0ad30>,\n",
       "  <matplotlib.lines.Line2D at 0x11fd1dcf8>,\n",
       "  <matplotlib.lines.Line2D at 0x11fd1de10>,\n",
       "  <matplotlib.lines.Line2D at 0x11fd2fdd8>,\n",
       "  <matplotlib.lines.Line2D at 0x11fd36cc0>,\n",
       "  <matplotlib.lines.Line2D at 0x120d1bc88>,\n",
       "  <matplotlib.lines.Line2D at 0x120d1bda0>,\n",
       "  <matplotlib.lines.Line2D at 0x120d2bd68>,\n",
       "  <matplotlib.lines.Line2D at 0x120d31c50>,\n",
       "  <matplotlib.lines.Line2D at 0x120d43c18>,\n",
       "  <matplotlib.lines.Line2D at 0x120d43d30>,\n",
       "  <matplotlib.lines.Line2D at 0x120d54cf8>,\n",
       "  <matplotlib.lines.Line2D at 0x1213c8be0>,\n",
       "  <matplotlib.lines.Line2D at 0x1213daba8>,\n",
       "  <matplotlib.lines.Line2D at 0x1213dacc0>,\n",
       "  <matplotlib.lines.Line2D at 0x1213ecc88>,\n",
       "  <matplotlib.lines.Line2D at 0x1213f2b70>,\n",
       "  <matplotlib.lines.Line2D at 0x121404b38>,\n",
       "  <matplotlib.lines.Line2D at 0x121404c50>,\n",
       "  <matplotlib.lines.Line2D at 0x129ff6c18>,\n",
       "  <matplotlib.lines.Line2D at 0x129ffbb00>,\n",
       "  <matplotlib.lines.Line2D at 0x12a00dac8>,\n",
       "  <matplotlib.lines.Line2D at 0x12a00dbe0>,\n",
       "  <matplotlib.lines.Line2D at 0x12a01fba8>,\n",
       "  <matplotlib.lines.Line2D at 0x12a024a90>,\n",
       "  <matplotlib.lines.Line2D at 0x12a036a58>,\n",
       "  <matplotlib.lines.Line2D at 0x12a036b70>,\n",
       "  <matplotlib.lines.Line2D at 0x12a049b38>,\n",
       "  <matplotlib.lines.Line2D at 0x12a04ea20>,\n",
       "  <matplotlib.lines.Line2D at 0x12a0619e8>,\n",
       "  <matplotlib.lines.Line2D at 0x12a061b00>,\n",
       "  <matplotlib.lines.Line2D at 0x12a072ac8>,\n",
       "  <matplotlib.lines.Line2D at 0x12a0789b0>,\n",
       "  <matplotlib.lines.Line2D at 0x12a08b978>,\n",
       "  <matplotlib.lines.Line2D at 0x12a08ba90>,\n",
       "  <matplotlib.lines.Line2D at 0x12a09ba58>,\n",
       "  <matplotlib.lines.Line2D at 0x12a0a0940>,\n",
       "  <matplotlib.lines.Line2D at 0x12a0b2908>,\n",
       "  <matplotlib.lines.Line2D at 0x12a0b2a20>,\n",
       "  <matplotlib.lines.Line2D at 0x12a0c5fd0>,\n",
       "  <matplotlib.lines.Line2D at 0x12a0cb8d0>,\n",
       "  <matplotlib.lines.Line2D at 0x12a0dc898>,\n",
       "  <matplotlib.lines.Line2D at 0x12a0dcf98>,\n",
       "  <matplotlib.lines.Line2D at 0x12a0eff60>,\n",
       "  <matplotlib.lines.Line2D at 0x12a0f4860>,\n",
       "  <matplotlib.lines.Line2D at 0x12a106828>,\n",
       "  <matplotlib.lines.Line2D at 0x12a106f28>,\n",
       "  <matplotlib.lines.Line2D at 0x12a116fd0>,\n",
       "  <matplotlib.lines.Line2D at 0x12a11c7f0>,\n",
       "  <matplotlib.lines.Line2D at 0x12a1307b8>,\n",
       "  <matplotlib.lines.Line2D at 0x12a130f98>,\n",
       "  <matplotlib.lines.Line2D at 0x12a140f60>,\n",
       "  <matplotlib.lines.Line2D at 0x12a146780>,\n",
       "  <matplotlib.lines.Line2D at 0x12a158748>,\n",
       "  <matplotlib.lines.Line2D at 0x12a158f28>,\n",
       "  <matplotlib.lines.Line2D at 0x12a16aef0>,\n",
       "  <matplotlib.lines.Line2D at 0x12a16f710>,\n",
       "  <matplotlib.lines.Line2D at 0x12a17cfd0>,\n",
       "  <matplotlib.lines.Line2D at 0x12a181eb8>,\n",
       "  <matplotlib.lines.Line2D at 0x12a193e80>,\n",
       "  <matplotlib.lines.Line2D at 0x12a193f98>,\n",
       "  <matplotlib.lines.Line2D at 0x12a1a5f60>,\n",
       "  <matplotlib.lines.Line2D at 0x12a1abe48>,\n",
       "  <matplotlib.lines.Line2D at 0x12a1bbe10>,\n",
       "  <matplotlib.lines.Line2D at 0x12a1bbf28>,\n",
       "  <matplotlib.lines.Line2D at 0x12a1cdef0>,\n",
       "  <matplotlib.lines.Line2D at 0x12a1d4dd8>,\n",
       "  <matplotlib.lines.Line2D at 0x12a1e5da0>,\n",
       "  <matplotlib.lines.Line2D at 0x12a1e5eb8>,\n",
       "  <matplotlib.lines.Line2D at 0x12a1f6e80>,\n",
       "  <matplotlib.lines.Line2D at 0x12a1fcd68>,\n",
       "  <matplotlib.lines.Line2D at 0x12a20fd30>,\n",
       "  <matplotlib.lines.Line2D at 0x12a20fe48>,\n",
       "  <matplotlib.lines.Line2D at 0x12a222e10>,\n",
       "  <matplotlib.lines.Line2D at 0x12a228cf8>,\n",
       "  <matplotlib.lines.Line2D at 0x12b172cc0>,\n",
       "  <matplotlib.lines.Line2D at 0x12b172dd8>,\n",
       "  <matplotlib.lines.Line2D at 0x12b183da0>,\n",
       "  <matplotlib.lines.Line2D at 0x12b188c88>,\n",
       "  <matplotlib.lines.Line2D at 0x12b19bc50>,\n",
       "  <matplotlib.lines.Line2D at 0x12b19bd68>,\n",
       "  <matplotlib.lines.Line2D at 0x12b1acd30>,\n",
       "  <matplotlib.lines.Line2D at 0x12b1b2c18>,\n",
       "  <matplotlib.lines.Line2D at 0x12b1c3be0>,\n",
       "  <matplotlib.lines.Line2D at 0x12b1c3cf8>,\n",
       "  <matplotlib.lines.Line2D at 0x12b1d6cc0>,\n",
       "  <matplotlib.lines.Line2D at 0x12b1dbba8>],\n",
       " 'fliers': [<matplotlib.lines.Line2D at 0x11f51c128>,\n",
       "  <matplotlib.lines.Line2D at 0x11f5056a0>,\n",
       "  <matplotlib.lines.Line2D at 0x11f4f5ba8>,\n",
       "  <matplotlib.lines.Line2D at 0x114d0a400>,\n",
       "  <matplotlib.lines.Line2D at 0x114cf81d0>,\n",
       "  <matplotlib.lines.Line2D at 0x120da3080>,\n",
       "  <matplotlib.lines.Line2D at 0x11ddc20b8>,\n",
       "  <matplotlib.lines.Line2D at 0x11ddd9fd0>,\n",
       "  <matplotlib.lines.Line2D at 0x11ddb1940>,\n",
       "  <matplotlib.lines.Line2D at 0x11e820b70>,\n",
       "  <matplotlib.lines.Line2D at 0x11e837be0>,\n",
       "  <matplotlib.lines.Line2D at 0x11e849e10>,\n",
       "  <matplotlib.lines.Line2D at 0x114f15e80>,\n",
       "  <matplotlib.lines.Line2D at 0x114f2c7f0>,\n",
       "  <matplotlib.lines.Line2D at 0x114f3df60>,\n",
       "  <matplotlib.lines.Line2D at 0x114f55828>,\n",
       "  <matplotlib.lines.Line2D at 0x114f68fd0>,\n",
       "  <matplotlib.lines.Line2D at 0x114f7e7b8>,\n",
       "  <matplotlib.lines.Line2D at 0x114f90f60>,\n",
       "  <matplotlib.lines.Line2D at 0x11de04748>,\n",
       "  <matplotlib.lines.Line2D at 0x11de15ef0>,\n",
       "  <matplotlib.lines.Line2D at 0x11de27fd0>,\n",
       "  <matplotlib.lines.Line2D at 0x11f4c0e80>,\n",
       "  <matplotlib.lines.Line2D at 0x11f4d1f60>,\n",
       "  <matplotlib.lines.Line2D at 0x11f4eae10>,\n",
       "  <matplotlib.lines.Line2D at 0x11fcd1ef0>,\n",
       "  <matplotlib.lines.Line2D at 0x11fce9da0>,\n",
       "  <matplotlib.lines.Line2D at 0x11fcf9e80>,\n",
       "  <matplotlib.lines.Line2D at 0x11fd13d30>,\n",
       "  <matplotlib.lines.Line2D at 0x11fd25e10>,\n",
       "  <matplotlib.lines.Line2D at 0x11fd3ccc0>,\n",
       "  <matplotlib.lines.Line2D at 0x120d21da0>,\n",
       "  <matplotlib.lines.Line2D at 0x120d38c50>,\n",
       "  <matplotlib.lines.Line2D at 0x120d48d30>,\n",
       "  <matplotlib.lines.Line2D at 0x1213cfbe0>,\n",
       "  <matplotlib.lines.Line2D at 0x1213dfcc0>,\n",
       "  <matplotlib.lines.Line2D at 0x1213f7b70>,\n",
       "  <matplotlib.lines.Line2D at 0x129feac50>,\n",
       "  <matplotlib.lines.Line2D at 0x12a001b00>,\n",
       "  <matplotlib.lines.Line2D at 0x12a013be0>,\n",
       "  <matplotlib.lines.Line2D at 0x12a02ca90>,\n",
       "  <matplotlib.lines.Line2D at 0x12a03cb70>,\n",
       "  <matplotlib.lines.Line2D at 0x12a055a20>,\n",
       "  <matplotlib.lines.Line2D at 0x12a067b00>,\n",
       "  <matplotlib.lines.Line2D at 0x12a07e9b0>,\n",
       "  <matplotlib.lines.Line2D at 0x12a090a90>,\n",
       "  <matplotlib.lines.Line2D at 0x12a0a7940>,\n",
       "  <matplotlib.lines.Line2D at 0x12a0b8a20>,\n",
       "  <matplotlib.lines.Line2D at 0x12a0d18d0>,\n",
       "  <matplotlib.lines.Line2D at 0x12a0e1f98>,\n",
       "  <matplotlib.lines.Line2D at 0x12a0f9860>,\n",
       "  <matplotlib.lines.Line2D at 0x12a10cf28>,\n",
       "  <matplotlib.lines.Line2D at 0x12a1237f0>,\n",
       "  <matplotlib.lines.Line2D at 0x12a135f98>,\n",
       "  <matplotlib.lines.Line2D at 0x12a14d780>,\n",
       "  <matplotlib.lines.Line2D at 0x12a15df28>,\n",
       "  <matplotlib.lines.Line2D at 0x12a176710>,\n",
       "  <matplotlib.lines.Line2D at 0x12a188eb8>,\n",
       "  <matplotlib.lines.Line2D at 0x12a19af98>,\n",
       "  <matplotlib.lines.Line2D at 0x12a1afe48>,\n",
       "  <matplotlib.lines.Line2D at 0x12a1c2f28>,\n",
       "  <matplotlib.lines.Line2D at 0x12a1dadd8>,\n",
       "  <matplotlib.lines.Line2D at 0x12a1eaeb8>,\n",
       "  <matplotlib.lines.Line2D at 0x12a203d68>,\n",
       "  <matplotlib.lines.Line2D at 0x12a213e48>,\n",
       "  <matplotlib.lines.Line2D at 0x12b165cf8>,\n",
       "  <matplotlib.lines.Line2D at 0x12b178dd8>,\n",
       "  <matplotlib.lines.Line2D at 0x12b18ec88>,\n",
       "  <matplotlib.lines.Line2D at 0x12b1a0d68>,\n",
       "  <matplotlib.lines.Line2D at 0x12b1b8c18>,\n",
       "  <matplotlib.lines.Line2D at 0x12b1c8cf8>,\n",
       "  <matplotlib.lines.Line2D at 0x12b1e1ba8>],\n",
       " 'means': [],\n",
       " 'medians': [<matplotlib.lines.Line2D at 0x11f51cf28>,\n",
       "  <matplotlib.lines.Line2D at 0x11f50b5f8>,\n",
       "  <matplotlib.lines.Line2D at 0x11f4f5390>,\n",
       "  <matplotlib.lines.Line2D at 0x114d10358>,\n",
       "  <matplotlib.lines.Line2D at 0x114cf89e8>,\n",
       "  <matplotlib.lines.Line2D at 0x114d27f60>,\n",
       "  <matplotlib.lines.Line2D at 0x11ddc28d0>,\n",
       "  <matplotlib.lines.Line2D at 0x11ddd90b8>,\n",
       "  <matplotlib.lines.Line2D at 0x11ddea630>,\n",
       "  <matplotlib.lines.Line2D at 0x11e820358>,\n",
       "  <matplotlib.lines.Line2D at 0x11e82fc88>,\n",
       "  <matplotlib.lines.Line2D at 0x11e8495f8>,\n",
       "  <matplotlib.lines.Line2D at 0x11e857f28>,\n",
       "  <matplotlib.lines.Line2D at 0x114f27898>,\n",
       "  <matplotlib.lines.Line2D at 0x114f3d198>,\n",
       "  <matplotlib.lines.Line2D at 0x114f4f940>,\n",
       "  <matplotlib.lines.Line2D at 0x114f68128>,\n",
       "  <matplotlib.lines.Line2D at 0x114f798d0>,\n",
       "  <matplotlib.lines.Line2D at 0x114f900b8>,\n",
       "  <matplotlib.lines.Line2D at 0x11ddfe860>,\n",
       "  <matplotlib.lines.Line2D at 0x11de15048>,\n",
       "  <matplotlib.lines.Line2D at 0x11de277f0>,\n",
       "  <matplotlib.lines.Line2D at 0x11f4b9f98>,\n",
       "  <matplotlib.lines.Line2D at 0x11f4d1780>,\n",
       "  <matplotlib.lines.Line2D at 0x11f4e3f28>,\n",
       "  <matplotlib.lines.Line2D at 0x11fcd1710>,\n",
       "  <matplotlib.lines.Line2D at 0x11fce2eb8>,\n",
       "  <matplotlib.lines.Line2D at 0x11fcf96a0>,\n",
       "  <matplotlib.lines.Line2D at 0x11fd0ae48>,\n",
       "  <matplotlib.lines.Line2D at 0x11fd25630>,\n",
       "  <matplotlib.lines.Line2D at 0x11fd36dd8>,\n",
       "  <matplotlib.lines.Line2D at 0x120d215c0>,\n",
       "  <matplotlib.lines.Line2D at 0x120d31d68>,\n",
       "  <matplotlib.lines.Line2D at 0x120d48550>,\n",
       "  <matplotlib.lines.Line2D at 0x1213c8cf8>,\n",
       "  <matplotlib.lines.Line2D at 0x1213df4e0>,\n",
       "  <matplotlib.lines.Line2D at 0x1213f2c88>,\n",
       "  <matplotlib.lines.Line2D at 0x129fea470>,\n",
       "  <matplotlib.lines.Line2D at 0x129ffbc18>,\n",
       "  <matplotlib.lines.Line2D at 0x12a013400>,\n",
       "  <matplotlib.lines.Line2D at 0x12a024ba8>,\n",
       "  <matplotlib.lines.Line2D at 0x12a03c390>,\n",
       "  <matplotlib.lines.Line2D at 0x12a04eb38>,\n",
       "  <matplotlib.lines.Line2D at 0x12a067320>,\n",
       "  <matplotlib.lines.Line2D at 0x12a078ac8>,\n",
       "  <matplotlib.lines.Line2D at 0x12a0902b0>,\n",
       "  <matplotlib.lines.Line2D at 0x12a0a0a58>,\n",
       "  <matplotlib.lines.Line2D at 0x12a0b8240>,\n",
       "  <matplotlib.lines.Line2D at 0x12a0cb9e8>,\n",
       "  <matplotlib.lines.Line2D at 0x12a0e11d0>,\n",
       "  <matplotlib.lines.Line2D at 0x12a0f4978>,\n",
       "  <matplotlib.lines.Line2D at 0x12a10c160>,\n",
       "  <matplotlib.lines.Line2D at 0x12a11c908>,\n",
       "  <matplotlib.lines.Line2D at 0x12a1350f0>,\n",
       "  <matplotlib.lines.Line2D at 0x12a146898>,\n",
       "  <matplotlib.lines.Line2D at 0x12a15d080>,\n",
       "  <matplotlib.lines.Line2D at 0x12a16f828>,\n",
       "  <matplotlib.lines.Line2D at 0x12a181fd0>,\n",
       "  <matplotlib.lines.Line2D at 0x12a19a7b8>,\n",
       "  <matplotlib.lines.Line2D at 0x12a1abf60>,\n",
       "  <matplotlib.lines.Line2D at 0x12a1c2748>,\n",
       "  <matplotlib.lines.Line2D at 0x12a1d4ef0>,\n",
       "  <matplotlib.lines.Line2D at 0x12a1ea6d8>,\n",
       "  <matplotlib.lines.Line2D at 0x12a1fce80>,\n",
       "  <matplotlib.lines.Line2D at 0x12a213668>,\n",
       "  <matplotlib.lines.Line2D at 0x12a228e10>,\n",
       "  <matplotlib.lines.Line2D at 0x12b1785f8>,\n",
       "  <matplotlib.lines.Line2D at 0x12b188da0>,\n",
       "  <matplotlib.lines.Line2D at 0x12b1a0588>,\n",
       "  <matplotlib.lines.Line2D at 0x12b1b2d30>,\n",
       "  <matplotlib.lines.Line2D at 0x12b1c8518>,\n",
       "  <matplotlib.lines.Line2D at 0x12b1dbcc0>],\n",
       " 'whiskers': [<matplotlib.lines.Line2D at 0x120dcae80>,\n",
       "  <matplotlib.lines.Line2D at 0x11f5280f0>,\n",
       "  <matplotlib.lines.Line2D at 0x11f5160b8>,\n",
       "  <matplotlib.lines.Line2D at 0x11f510780>,\n",
       "  <matplotlib.lines.Line2D at 0x11f501668>,\n",
       "  <matplotlib.lines.Line2D at 0x11f501550>,\n",
       "  <matplotlib.lines.Line2D at 0x114d1b438>,\n",
       "  <matplotlib.lines.Line2D at 0x114d134e0>,\n",
       "  <matplotlib.lines.Line2D at 0x114d06c50>,\n",
       "  <matplotlib.lines.Line2D at 0x114d06d68>,\n",
       "  <matplotlib.lines.Line2D at 0x114d33e80>,\n",
       "  <matplotlib.lines.Line2D at 0x114d2bdd8>,\n",
       "  <matplotlib.lines.Line2D at 0x114b5c9e8>,\n",
       "  <matplotlib.lines.Line2D at 0x120da9390>,\n",
       "  <matplotlib.lines.Line2D at 0x11ddc6f98>,\n",
       "  <matplotlib.lines.Line2D at 0x11ddcd128>,\n",
       "  <matplotlib.lines.Line2D at 0x11dde0128>,\n",
       "  <matplotlib.lines.Line2D at 0x11dde47b8>,\n",
       "  <matplotlib.lines.Line2D at 0x11ddb5978>,\n",
       "  <matplotlib.lines.Line2D at 0x11ddb5a90>,\n",
       "  <matplotlib.lines.Line2D at 0x11e826ba8>,\n",
       "  <matplotlib.lines.Line2D at 0x11e82bb00>,\n",
       "  <matplotlib.lines.Line2D at 0x11e83bc18>,\n",
       "  <matplotlib.lines.Line2D at 0x11e83bd30>,\n",
       "  <matplotlib.lines.Line2D at 0x11e84ddd8>,\n",
       "  <matplotlib.lines.Line2D at 0x11e852da0>,\n",
       "  <matplotlib.lines.Line2D at 0x114f1beb8>,\n",
       "  <matplotlib.lines.Line2D at 0x114f1bfd0>,\n",
       "  <matplotlib.lines.Line2D at 0x114f31828>,\n",
       "  <matplotlib.lines.Line2D at 0x114f31f60>,\n",
       "  <matplotlib.lines.Line2D at 0x114f43f28>,\n",
       "  <matplotlib.lines.Line2D at 0x114f49828>,\n",
       "  <matplotlib.lines.Line2D at 0x114f5a7f0>,\n",
       "  <matplotlib.lines.Line2D at 0x114f5afd0>,\n",
       "  <matplotlib.lines.Line2D at 0x114f6df98>,\n",
       "  <matplotlib.lines.Line2D at 0x114f737b8>,\n",
       "  <matplotlib.lines.Line2D at 0x114f85780>,\n",
       "  <matplotlib.lines.Line2D at 0x114f85f60>,\n",
       "  <matplotlib.lines.Line2D at 0x11ddf4f28>,\n",
       "  <matplotlib.lines.Line2D at 0x11ddf9748>,\n",
       "  <matplotlib.lines.Line2D at 0x11de04f98>,\n",
       "  <matplotlib.lines.Line2D at 0x11de09ef0>,\n",
       "  <matplotlib.lines.Line2D at 0x11de1ceb8>,\n",
       "  <matplotlib.lines.Line2D at 0x11de1cfd0>,\n",
       "  <matplotlib.lines.Line2D at 0x11de2cf28>,\n",
       "  <matplotlib.lines.Line2D at 0x11f4b5e80>,\n",
       "  <matplotlib.lines.Line2D at 0x11f4c6e48>,\n",
       "  <matplotlib.lines.Line2D at 0x11f4c6f60>,\n",
       "  <matplotlib.lines.Line2D at 0x11f4d7eb8>,\n",
       "  <matplotlib.lines.Line2D at 0x11f4dee10>,\n",
       "  <matplotlib.lines.Line2D at 0x11f4efdd8>,\n",
       "  <matplotlib.lines.Line2D at 0x11f4efef0>,\n",
       "  <matplotlib.lines.Line2D at 0x11fcd8e48>,\n",
       "  <matplotlib.lines.Line2D at 0x11fcdcda0>,\n",
       "  <matplotlib.lines.Line2D at 0x11fceed68>,\n",
       "  <matplotlib.lines.Line2D at 0x11fceee80>,\n",
       "  <matplotlib.lines.Line2D at 0x11fcffdd8>,\n",
       "  <matplotlib.lines.Line2D at 0x11fd05d30>,\n",
       "  <matplotlib.lines.Line2D at 0x11fd18cf8>,\n",
       "  <matplotlib.lines.Line2D at 0x11fd18e10>,\n",
       "  <matplotlib.lines.Line2D at 0x11fd2ad68>,\n",
       "  <matplotlib.lines.Line2D at 0x11fd2fcc0>,\n",
       "  <matplotlib.lines.Line2D at 0x11fd41c88>,\n",
       "  <matplotlib.lines.Line2D at 0x11fd41da0>,\n",
       "  <matplotlib.lines.Line2D at 0x120d26cf8>,\n",
       "  <matplotlib.lines.Line2D at 0x120d2bc50>,\n",
       "  <matplotlib.lines.Line2D at 0x120d3dc18>,\n",
       "  <matplotlib.lines.Line2D at 0x120d3dd30>,\n",
       "  <matplotlib.lines.Line2D at 0x120d4ec88>,\n",
       "  <matplotlib.lines.Line2D at 0x120d54be0>,\n",
       "  <matplotlib.lines.Line2D at 0x1213d4ba8>,\n",
       "  <matplotlib.lines.Line2D at 0x1213d4cc0>,\n",
       "  <matplotlib.lines.Line2D at 0x1213e3c88>,\n",
       "  <matplotlib.lines.Line2D at 0x1213ecb70>,\n",
       "  <matplotlib.lines.Line2D at 0x1213feb38>,\n",
       "  <matplotlib.lines.Line2D at 0x1213fec50>,\n",
       "  <matplotlib.lines.Line2D at 0x129ff1c18>,\n",
       "  <matplotlib.lines.Line2D at 0x129ff6b00>,\n",
       "  <matplotlib.lines.Line2D at 0x12a007ac8>,\n",
       "  <matplotlib.lines.Line2D at 0x12a007be0>,\n",
       "  <matplotlib.lines.Line2D at 0x12a018b38>,\n",
       "  <matplotlib.lines.Line2D at 0x12a01fa90>,\n",
       "  <matplotlib.lines.Line2D at 0x12a031a58>,\n",
       "  <matplotlib.lines.Line2D at 0x12a031b70>,\n",
       "  <matplotlib.lines.Line2D at 0x12a043ac8>,\n",
       "  <matplotlib.lines.Line2D at 0x12a049a20>,\n",
       "  <matplotlib.lines.Line2D at 0x12a05b9e8>,\n",
       "  <matplotlib.lines.Line2D at 0x12a05bb00>,\n",
       "  <matplotlib.lines.Line2D at 0x12a06da58>,\n",
       "  <matplotlib.lines.Line2D at 0x12a0729b0>,\n",
       "  <matplotlib.lines.Line2D at 0x12a083978>,\n",
       "  <matplotlib.lines.Line2D at 0x12a083a90>,\n",
       "  <matplotlib.lines.Line2D at 0x12a0959e8>,\n",
       "  <matplotlib.lines.Line2D at 0x12a09b940>,\n",
       "  <matplotlib.lines.Line2D at 0x12a0ad908>,\n",
       "  <matplotlib.lines.Line2D at 0x12a0ada20>,\n",
       "  <matplotlib.lines.Line2D at 0x12a0befd0>,\n",
       "  <matplotlib.lines.Line2D at 0x12a0c58d0>,\n",
       "  <matplotlib.lines.Line2D at 0x12a0d6898>,\n",
       "  <matplotlib.lines.Line2D at 0x12a0d6f98>,\n",
       "  <matplotlib.lines.Line2D at 0x12a0e8f60>,\n",
       "  <matplotlib.lines.Line2D at 0x12a0ef860>,\n",
       "  <matplotlib.lines.Line2D at 0x12a101828>,\n",
       "  <matplotlib.lines.Line2D at 0x12a101f28>,\n",
       "  <matplotlib.lines.Line2D at 0x12a111fd0>,\n",
       "  <matplotlib.lines.Line2D at 0x12a1167f0>,\n",
       "  <matplotlib.lines.Line2D at 0x12a1297b8>,\n",
       "  <matplotlib.lines.Line2D at 0x12a129f98>,\n",
       "  <matplotlib.lines.Line2D at 0x12a13bf60>,\n",
       "  <matplotlib.lines.Line2D at 0x12a140780>,\n",
       "  <matplotlib.lines.Line2D at 0x12a152748>,\n",
       "  <matplotlib.lines.Line2D at 0x12a152f28>,\n",
       "  <matplotlib.lines.Line2D at 0x12a163ef0>,\n",
       "  <matplotlib.lines.Line2D at 0x12a16a710>,\n",
       "  <matplotlib.lines.Line2D at 0x12a176f60>,\n",
       "  <matplotlib.lines.Line2D at 0x12a17ceb8>,\n",
       "  <matplotlib.lines.Line2D at 0x12a18de80>,\n",
       "  <matplotlib.lines.Line2D at 0x12a18df98>,\n",
       "  <matplotlib.lines.Line2D at 0x12a19ff60>,\n",
       "  <matplotlib.lines.Line2D at 0x12a1a5e48>,\n",
       "  <matplotlib.lines.Line2D at 0x12a1b6e10>,\n",
       "  <matplotlib.lines.Line2D at 0x12a1b6f28>,\n",
       "  <matplotlib.lines.Line2D at 0x12a1c8e80>,\n",
       "  <matplotlib.lines.Line2D at 0x12a1cddd8>,\n",
       "  <matplotlib.lines.Line2D at 0x12a1dfda0>,\n",
       "  <matplotlib.lines.Line2D at 0x12a1dfeb8>,\n",
       "  <matplotlib.lines.Line2D at 0x12a1f0e10>,\n",
       "  <matplotlib.lines.Line2D at 0x12a1f6d68>,\n",
       "  <matplotlib.lines.Line2D at 0x12a208d30>,\n",
       "  <matplotlib.lines.Line2D at 0x12a208e48>,\n",
       "  <matplotlib.lines.Line2D at 0x12a21ada0>,\n",
       "  <matplotlib.lines.Line2D at 0x12a222cf8>,\n",
       "  <matplotlib.lines.Line2D at 0x12b16acc0>,\n",
       "  <matplotlib.lines.Line2D at 0x12b16add8>,\n",
       "  <matplotlib.lines.Line2D at 0x12b17ed30>,\n",
       "  <matplotlib.lines.Line2D at 0x12b183c88>,\n",
       "  <matplotlib.lines.Line2D at 0x12b194c50>,\n",
       "  <matplotlib.lines.Line2D at 0x12b194d68>,\n",
       "  <matplotlib.lines.Line2D at 0x12b1a6d30>,\n",
       "  <matplotlib.lines.Line2D at 0x12b1acc18>,\n",
       "  <matplotlib.lines.Line2D at 0x12b1bfbe0>,\n",
       "  <matplotlib.lines.Line2D at 0x12b1bfcf8>,\n",
       "  <matplotlib.lines.Line2D at 0x12b1cecc0>,\n",
       "  <matplotlib.lines.Line2D at 0x12b1d6ba8>]}"
      ]
     },
     "execution_count": 89,
     "metadata": {},
     "output_type": "execute_result"
    },
    {
     "data": {
      "image/png": "[encoded data removed]",
      "text/plain": [
       "<matplotlib.figure.Figure at 0x114b560b8>"
      ]
     },
     "metadata": {},
     "output_type": "display_data"
    }
   ],
   "source": [
    "dados_limpo.boxplot()"
   ]
  },
  {
   "cell_type": "code",
   "execution_count": 90,
   "metadata": {
    "collapsed": false
   },
   "outputs": [
    {
     "data": {
      "text/plain": [
       "<matplotlib.axes._subplots.AxesSubplot at 0x114ace588>"
      ]
     },
     "execution_count": 90,
     "metadata": {},
     "output_type": "execute_result"
    },
    {
     "data": {
      "image/png": "[encoded data removed]",
      "text/plain": [
       "<matplotlib.figure.Figure at 0x11490fda0>"
      ]
     },
     "metadata": {},
     "output_type": "display_data"
    }
   ],
   "source": [
    "dados_limpo.V4742.plot.box()"
   ]
  },
  {
   "cell_type": "code",
   "execution_count": 78,
   "metadata": {
    "collapsed": false,
    "scrolled": true
   },
   "outputs": [
    {
     "data": {
      "text/plain": [
       "count    343224.000000\n",
       "mean        923.885943\n",
       "std        1473.710793\n",
       "min           0.000000\n",
       "25%         300.000000\n",
       "50%         564.000000\n",
       "75%        1000.000000\n",
       "max       82000.000000\n",
       "Name: V4742, dtype: float64"
      ]
     },
     "execution_count": 78,
     "metadata": {},
     "output_type": "execute_result"
    }
   ],
   "source": [
    "dados_limpo.V4742.describe()"
   ]
  },
  {
   "cell_type": "code",
   "execution_count": 86,
   "metadata": {
    "collapsed": false
   },
   "outputs": [
    {
     "name": "stderr",
     "output_type": "stream",
     "text": [
      "//anaconda/lib/python3.5/site-packages/pandas/core/frame.py:1997: UserWarning: Boolean Series key will be reindexed to match DataFrame index.\n",
      "  \"DataFrame index.\", UserWarning)\n"
     ]
    },
    {
     "data": {
      "text/plain": [
       "count     6153.000000\n",
       "mean      8717.451000\n",
       "std       5141.754864\n",
       "min       5013.000000\n",
       "25%       6000.000000\n",
       "50%       7233.000000\n",
       "75%       9933.000000\n",
       "max      82000.000000\n",
       "Name: V4742, dtype: float64"
      ]
     },
     "execution_count": 86,
     "metadata": {},
     "output_type": "execute_result"
    }
   ],
   "source": [
    "dados_limpo[dados.V4742 > 5000].V4742.describe()"
   ]
  },
  {
   "cell_type": "code",
   "execution_count": 83,
   "metadata": {
    "collapsed": false
   },
   "outputs": [
    {
     "name": "stderr",
     "output_type": "stream",
     "text": [
      "//anaconda/lib/python3.5/site-packages/pandas/core/frame.py:1997: UserWarning: Boolean Series key will be reindexed to match DataFrame index.\n",
      "  \"DataFrame index.\", UserWarning)\n"
     ]
    },
    {
     "data": {
      "text/plain": [
       "<matplotlib.axes._subplots.AxesSubplot at 0x11d820dd8>"
      ]
     },
     "execution_count": 83,
     "metadata": {},
     "output_type": "execute_result"
    },
    {
     "data": {
      "image/png": "[encoded data removed]",
      "text/plain": [
       "<matplotlib.figure.Figure at 0x120a9bac8>"
      ]
     },
     "metadata": {},
     "output_type": "display_data"
    }
   ],
   "source": [
    "dados_limpo[dados.V4742 < 5000].V4742.plot.box()"
   ]
  },
  {
   "cell_type": "code",
   "execution_count": 84,
   "metadata": {
    "collapsed": false
   },
   "outputs": [
    {
     "data": {
      "text/plain": [
       "1         (-82, 8200]\n",
       "2         (-82, 8200]\n",
       "3         (-82, 8200]\n",
       "4         (-82, 8200]\n",
       "5         (-82, 8200]\n",
       "6         (-82, 8200]\n",
       "7         (-82, 8200]\n",
       "8         (-82, 8200]\n",
       "9         (-82, 8200]\n",
       "10        (-82, 8200]\n",
       "11        (-82, 8200]\n",
       "12        (-82, 8200]\n",
       "13        (-82, 8200]\n",
       "14        (-82, 8200]\n",
       "15        (-82, 8200]\n",
       "16        (-82, 8200]\n",
       "17        (-82, 8200]\n",
       "18        (-82, 8200]\n",
       "19        (-82, 8200]\n",
       "20        (-82, 8200]\n",
       "21        (-82, 8200]\n",
       "22        (-82, 8200]\n",
       "23        (-82, 8200]\n",
       "24        (-82, 8200]\n",
       "25        (-82, 8200]\n",
       "26        (-82, 8200]\n",
       "27        (-82, 8200]\n",
       "28        (-82, 8200]\n",
       "29        (-82, 8200]\n",
       "30        (-82, 8200]\n",
       "             ...     \n",
       "362526    (-82, 8200]\n",
       "362527    (-82, 8200]\n",
       "362528    (-82, 8200]\n",
       "362529    (-82, 8200]\n",
       "362530    (-82, 8200]\n",
       "362531    (-82, 8200]\n",
       "362532    (-82, 8200]\n",
       "362533    (-82, 8200]\n",
       "362534    (-82, 8200]\n",
       "362535    (-82, 8200]\n",
       "362536    (-82, 8200]\n",
       "362537    (-82, 8200]\n",
       "362538    (-82, 8200]\n",
       "362539    (-82, 8200]\n",
       "362540    (-82, 8200]\n",
       "362541    (-82, 8200]\n",
       "362542    (-82, 8200]\n",
       "362543    (-82, 8200]\n",
       "362544    (-82, 8200]\n",
       "362545    (-82, 8200]\n",
       "362546    (-82, 8200]\n",
       "362547    (-82, 8200]\n",
       "362548    (-82, 8200]\n",
       "362549    (-82, 8200]\n",
       "362550    (-82, 8200]\n",
       "362551    (-82, 8200]\n",
       "362552    (-82, 8200]\n",
       "362553    (-82, 8200]\n",
       "362554    (-82, 8200]\n",
       "362555    (-82, 8200]\n",
       "Name: V4742, dtype: category\n",
       "Categories (10, object): [(-82, 8200] < (8200, 16400] < (16400, 24600] < (24600, 32800] ... (49200, 57400] < (57400, 65600] < (65600, 73800] < (73800, 82000]]"
      ]
     },
     "execution_count": 84,
     "metadata": {},
     "output_type": "execute_result"
    }
   ],
   "source": [
    "renda_domiciliar = pd.cut(dados_limpo.V4742,bins = 10)\n",
    "renda_domiciliar"
   ]
  },
  {
   "cell_type": "code",
   "execution_count": 68,
   "metadata": {
    "collapsed": false
   },
   "outputs": [
    {
     "data": {
      "text/plain": [
       "<matplotlib.axes._subplots.AxesSubplot at 0x11d7c04e0>"
      ]
     },
     "execution_count": 68,
     "metadata": {},
     "output_type": "execute_result"
    },
    {
     "data": {
      "image/png": "[encoded data removed]",
      "text/plain": [
       "<matplotlib.figure.Figure at 0x115db2e48>"
      ]
     },
     "metadata": {},
     "output_type": "display_data"
    }
   ],
   "source": [
    "renda = (dados.V4742.value_counts())\n",
    "renda.plot(kind='box', legend=False,title='renda')"
   ]
  },
  {
   "cell_type": "code",
   "execution_count": 56,
   "metadata": {
    "collapsed": false
   },
   "outputs": [
    {
     "data": {
      "text/plain": [
       "<matplotlib.axes._subplots.AxesSubplot at 0x11e929f28>"
      ]
     },
     "execution_count": 56,
     "metadata": {},
     "output_type": "execute_result"
    },
    {
     "data": {
      "image/png": "[encoded data removed]",
      "text/plain": [
       "<matplotlib.figure.Figure at 0x11d3f6080>"
      ]
     },
     "metadata": {},
     "output_type": "display_data"
    }
   ],
   "source": [
    "renda_domiciliar.value_counts().plot.bar()"
   ]
  },
  {
   "cell_type": "code",
   "execution_count": 69,
   "metadata": {
    "collapsed": false
   },
   "outputs": [
    {
     "data": {
      "text/plain": [
       "<matplotlib.axes._subplots.AxesSubplot at 0x11d47eeb8>"
      ]
     },
     "execution_count": 69,
     "metadata": {},
     "output_type": "execute_result"
    },
    {
     "data": {
      "image/png": "[encoded data removed]",
      "text/plain": [
       "<matplotlib.figure.Figure at 0x11d48b5c0>"
      ]
     },
     "metadata": {},
     "output_type": "display_data"
    }
   ],
   "source": [
    "filhos_homens = (dados.V1141.value_counts())\n",
    "filhos_homens.plot(kind='box', legend=False,title='filhos homens nascidos')"
   ]
  },
  {
   "cell_type": "code",
   "execution_count": 87,
   "metadata": {
    "collapsed": false
   },
   "outputs": [
    {
     "data": {
      "text/plain": [
       "0     51508\n",
       "1     38009\n",
       "2     10429\n",
       "3      2178\n",
       "4       445\n",
       "5       115\n",
       "6        31\n",
       "8         8\n",
       "7         5\n",
       "9         3\n",
       "11        1\n",
       "10        1\n",
       "Name: V1142, dtype: int64"
      ]
     },
     "execution_count": 87,
     "metadata": {},
     "output_type": "execute_result"
    }
   ],
   "source": [
    "dados.V1142.value_counts()"
   ]
  },
  {
   "cell_type": "code",
   "execution_count": 88,
   "metadata": {
    "collapsed": false
   },
   "outputs": [
    {
     "data": {
      "text/plain": [
       "<matplotlib.axes._subplots.AxesSubplot at 0x1201ac9e8>"
      ]
     },
     "execution_count": 88,
     "metadata": {},
     "output_type": "execute_result"
    },
    {
     "data": {
      "image/png": "[encoded data removed]",
      "text/plain": [
       "<matplotlib.figure.Figure at 0x11de6b748>"
      ]
     },
     "metadata": {},
     "output_type": "display_data"
    }
   ],
   "source": [
    "filhos_mulheres = (dados.V1142.value_counts())\n",
    "dados.V1142.plot(kind='box', legend=False,title='Filhas mulheres nascidas')"
   ]
  },
  {
   "cell_type": "markdown",
   "metadata": {},
   "source": [
    "## Conclusão:\n",
    "\n",
    "Os dados pareceram inconclusivos, entretanto, é possível perceber que existem outliners superiores quanto ao numero de filhos homens e mulheres na população brasileira. Todavia, tal conclusão não pode ser feita a respeito de nenhum estado brasileiro.\n",
    "\n",
    "Quanto à renda, parece estranho , porém o box-plot relata que existem diversos casos de outliners superiores, o que indica que há diversos casos de brasileiros que obtém uma renda domiciliar acima do valor Q3 + 1.5*IQ."
   ]
  },
  {
   "cell_type": "code",
   "execution_count": null,
   "metadata": {
    "collapsed": true
   },
   "outputs": [],
   "source": []
  }
 ],
 "metadata": {
  "anaconda-cloud": {},
  "kernelspec": {
   "display_name": "Python 3",
   "language": "python",
   "name": "python3"
  },
  "language_info": {
   "codemirror_mode": {
    "name": "ipython",
    "version": 3
   },
   "file_extension": ".py",
   "mimetype": "text/x-python",
   "name": "python",
   "nbconvert_exporter": "python",
   "pygments_lexer": "ipython3",
   "version": "3.5.2"
  }
 },
 "nbformat": 4,
 "nbformat_minor": 0
}
