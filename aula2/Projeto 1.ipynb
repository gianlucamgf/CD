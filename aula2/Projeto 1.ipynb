{
 "cells": [
  {
   "cell_type": "markdown",
   "metadata": {},
   "source": [
    "## Projeto 1"
   ]
  },
  {
   "cell_type": "markdown",
   "metadata": {},
   "source": [
    "   Em quais características certo grupo de aposentados está melhor(ou pior ou\n",
    "igual) do que algum outro grupo de comparação?”"
   ]
  },
  {
   "cell_type": "markdown",
   "metadata": {},
   "source": [
    "   Nesse projeto, que visa conhecer a condição de vida dos aposentados no Brasil, o critério utilizado\n",
    "para atender tal objetivo é o seguinte: Primeiro, será feita uma analise estadual que comporta os serviços \n",
    "realizados por diferentes integrantes da população brasileira em diversos Estados. A seguir, será feito um levantamento da renda domiciliar, também por Estado, para averiguar se os Estados cuja renda é mais baixa, são\n",
    "aqueles onde a população trata de serviços mais modestos. Por fim, será traçada uma relação entre a situação \n",
    "da população citada acima, com aqueles aposentados, a fim de identificar o Estado cujos aposentados vivem melhor,\n",
    "além de ter sido averiguado o motivo dessa superioridade."
   ]
  },
  {
   "cell_type": "code",
   "execution_count": 2,
   "metadata": {
    "collapsed": true
   },
   "outputs": [],
   "source": [
    "%matplotlib inline\n",
    "import pandas as pd\n",
    "import matplotlib.pyplot as plt\n",
    "import os"
   ]
  },
  {
   "cell_type": "code",
   "execution_count": 3,
   "metadata": {
    "collapsed": true
   },
   "outputs": [],
   "source": [
    "dados = pd.read_table(\"pes2013A.txt\",sep = \" \")"
   ]
  },
  {
   "cell_type": "code",
   "execution_count": 4,
   "metadata": {
    "collapsed": false
   },
   "outputs": [
    {
     "name": "stderr",
     "output_type": "stream",
     "text": [
      "//anaconda/lib/python3.5/site-packages/ipykernel/__main__.py:2: SettingWithCopyWarning: \n",
      "A value is trying to be set on a copy of a slice from a DataFrame\n",
      "\n",
      "See the caveats in the documentation: http://pandas.pydata.org/pandas-docs/stable/indexing.html#indexing-view-versus-copy\n",
      "  from ipykernel import kernelapp as app\n",
      "//anaconda/lib/python3.5/site-packages/ipykernel/__main__.py:3: SettingWithCopyWarning: \n",
      "A value is trying to be set on a copy of a slice from a DataFrame\n",
      "\n",
      "See the caveats in the documentation: http://pandas.pydata.org/pandas-docs/stable/indexing.html#indexing-view-versus-copy\n",
      "  app.launch_new_instance()\n",
      "//anaconda/lib/python3.5/site-packages/ipykernel/__main__.py:4: SettingWithCopyWarning: \n",
      "A value is trying to be set on a copy of a slice from a DataFrame\n",
      "\n",
      "See the caveats in the documentation: http://pandas.pydata.org/pandas-docs/stable/indexing.html#indexing-view-versus-copy\n",
      "//anaconda/lib/python3.5/site-packages/ipykernel/__main__.py:5: SettingWithCopyWarning: \n",
      "A value is trying to be set on a copy of a slice from a DataFrame\n",
      "\n",
      "See the caveats in the documentation: http://pandas.pydata.org/pandas-docs/stable/indexing.html#indexing-view-versus-copy\n",
      "//anaconda/lib/python3.5/site-packages/ipykernel/__main__.py:6: SettingWithCopyWarning: \n",
      "A value is trying to be set on a copy of a slice from a DataFrame\n",
      "\n",
      "See the caveats in the documentation: http://pandas.pydata.org/pandas-docs/stable/indexing.html#indexing-view-versus-copy\n"
     ]
    },
    {
     "data": {
      "text/html": [
       "<div>\n",
       "<table border=\"1\" class=\"dataframe\">\n",
       "  <thead>\n",
       "    <tr style=\"text-align: right;\">\n",
       "      <th></th>\n",
       "      <th>V0101</th>\n",
       "      <th>UF</th>\n",
       "      <th>V0102</th>\n",
       "      <th>V0103</th>\n",
       "      <th>V0301</th>\n",
       "      <th>V0302</th>\n",
       "      <th>V8005</th>\n",
       "      <th>V0404</th>\n",
       "      <th>V4011</th>\n",
       "      <th>V0412</th>\n",
       "      <th>...</th>\n",
       "      <th>V4707</th>\n",
       "      <th>V4809</th>\n",
       "      <th>V4810</th>\n",
       "      <th>V4711</th>\n",
       "      <th>V4718</th>\n",
       "      <th>V4720</th>\n",
       "      <th>V4742</th>\n",
       "      <th>V4750</th>\n",
       "      <th>V4729</th>\n",
       "      <th>Regiao</th>\n",
       "    </tr>\n",
       "  </thead>\n",
       "  <tbody>\n",
       "    <tr>\n",
       "      <th>1</th>\n",
       "      <td>2013</td>\n",
       "      <td>11</td>\n",
       "      <td>15</td>\n",
       "      <td>3</td>\n",
       "      <td>1</td>\n",
       "      <td>4</td>\n",
       "      <td>42</td>\n",
       "      <td>2</td>\n",
       "      <td>5</td>\n",
       "      <td>2</td>\n",
       "      <td>...</td>\n",
       "      <td>NaN</td>\n",
       "      <td>NaN</td>\n",
       "      <td>NaN</td>\n",
       "      <td>NaN</td>\n",
       "      <td>NaN</td>\n",
       "      <td>350</td>\n",
       "      <td>350</td>\n",
       "      <td>350</td>\n",
       "      <td>244</td>\n",
       "      <td>Norte</td>\n",
       "    </tr>\n",
       "    <tr>\n",
       "      <th>2</th>\n",
       "      <td>2013</td>\n",
       "      <td>11</td>\n",
       "      <td>15</td>\n",
       "      <td>4</td>\n",
       "      <td>1</td>\n",
       "      <td>4</td>\n",
       "      <td>64</td>\n",
       "      <td>8</td>\n",
       "      <td>7</td>\n",
       "      <td>2</td>\n",
       "      <td>...</td>\n",
       "      <td>NaN</td>\n",
       "      <td>NaN</td>\n",
       "      <td>NaN</td>\n",
       "      <td>NaN</td>\n",
       "      <td>NaN</td>\n",
       "      <td>678</td>\n",
       "      <td>339</td>\n",
       "      <td>339</td>\n",
       "      <td>243</td>\n",
       "      <td>Norte</td>\n",
       "    </tr>\n",
       "    <tr>\n",
       "      <th>3</th>\n",
       "      <td>2013</td>\n",
       "      <td>11</td>\n",
       "      <td>15</td>\n",
       "      <td>4</td>\n",
       "      <td>2</td>\n",
       "      <td>4</td>\n",
       "      <td>13</td>\n",
       "      <td>4</td>\n",
       "      <td>0</td>\n",
       "      <td>2</td>\n",
       "      <td>...</td>\n",
       "      <td>NaN</td>\n",
       "      <td>NaN</td>\n",
       "      <td>NaN</td>\n",
       "      <td>NaN</td>\n",
       "      <td>NaN</td>\n",
       "      <td>0</td>\n",
       "      <td>339</td>\n",
       "      <td>339</td>\n",
       "      <td>243</td>\n",
       "      <td>Norte</td>\n",
       "    </tr>\n",
       "    <tr>\n",
       "      <th>4</th>\n",
       "      <td>2013</td>\n",
       "      <td>11</td>\n",
       "      <td>15</td>\n",
       "      <td>5</td>\n",
       "      <td>1</td>\n",
       "      <td>2</td>\n",
       "      <td>23</td>\n",
       "      <td>8</td>\n",
       "      <td>0</td>\n",
       "      <td>2</td>\n",
       "      <td>...</td>\n",
       "      <td>3</td>\n",
       "      <td>5</td>\n",
       "      <td>5</td>\n",
       "      <td>1</td>\n",
       "      <td>800</td>\n",
       "      <td>800</td>\n",
       "      <td>266</td>\n",
       "      <td>266</td>\n",
       "      <td>243</td>\n",
       "      <td>Norte</td>\n",
       "    </tr>\n",
       "    <tr>\n",
       "      <th>5</th>\n",
       "      <td>2013</td>\n",
       "      <td>11</td>\n",
       "      <td>15</td>\n",
       "      <td>5</td>\n",
       "      <td>2</td>\n",
       "      <td>4</td>\n",
       "      <td>19</td>\n",
       "      <td>8</td>\n",
       "      <td>0</td>\n",
       "      <td>2</td>\n",
       "      <td>...</td>\n",
       "      <td>NaN</td>\n",
       "      <td>NaN</td>\n",
       "      <td>NaN</td>\n",
       "      <td>NaN</td>\n",
       "      <td>NaN</td>\n",
       "      <td>0</td>\n",
       "      <td>266</td>\n",
       "      <td>266</td>\n",
       "      <td>243</td>\n",
       "      <td>Norte</td>\n",
       "    </tr>\n",
       "  </tbody>\n",
       "</table>\n",
       "<p>5 rows × 73 columns</p>\n",
       "</div>"
      ],
      "text/plain": [
       "   V0101  UF  V0102  V0103  V0301  V0302  V8005  V0404  V4011  V0412   ...    \\\n",
       "1   2013  11     15      3      1      4     42      2      5      2   ...     \n",
       "2   2013  11     15      4      1      4     64      8      7      2   ...     \n",
       "3   2013  11     15      4      2      4     13      4      0      2   ...     \n",
       "4   2013  11     15      5      1      2     23      8      0      2   ...     \n",
       "5   2013  11     15      5      2      4     19      8      0      2   ...     \n",
       "\n",
       "   V4707  V4809  V4810  V4711  V4718  V4720  V4742  V4750  V4729  Regiao  \n",
       "1    NaN    NaN    NaN    NaN    NaN    350    350    350    244   Norte  \n",
       "2    NaN    NaN    NaN    NaN    NaN    678    339    339    243   Norte  \n",
       "3    NaN    NaN    NaN    NaN    NaN      0    339    339    243   Norte  \n",
       "4      3      5      5      1    800    800    266    266    243   Norte  \n",
       "5    NaN    NaN    NaN    NaN    NaN      0    266    266    243   Norte  \n",
       "\n",
       "[5 rows x 73 columns]"
      ]
     },
     "execution_count": 4,
     "metadata": {},
     "output_type": "execute_result"
    }
   ],
   "source": [
    "dados[\"Regiao\"] = dados.UF\n",
    "dados.Regiao[dados.UF <=16]=\"Norte\"\n",
    "dados.Regiao[(dados.UF >=17) & (dados.UF <=29)]=\"Nordeste\"\n",
    "dados.Regiao[(dados.UF >=31) & (dados.UF <=35)]=\"Sudeste\"\n",
    "dados.Regiao[(dados.UF >=41) & (dados.UF <=43)]=\"Sul\"\n",
    "dados.Regiao[(dados.UF >=50) & (dados.UF <=53)]=\"Centro-Oeste\""
   ]
  },
  {
   "cell_type": "code",
   "execution_count": null,
   "metadata": {
    "collapsed": true
   },
   "outputs": [],
   "source": [
    "aposentados = dados[(dados.V8005 >= 65)] #coluna apenas com os cidadãos aposentdos\n",
    "ativos = dados[(dados.V8005 >= 23)&(dados.V8005 < 65)] #coluna apenas com os cidadãos economicamente ativos\n",
    "renda = dados[(dados.V4742 != 999999999999)]\n",
    "raca = dados[(dados.V0404)]\n",
    "trabalhos = dados[(dados.V4809)] #coluna que lista as diferentes ocupações da população ativa"
   ]
  },
  {
   "cell_type": "code",
   "execution_count": null,
   "metadata": {
    "collapsed": true
   },
   "outputs": [],
   "source": [
    "estado = dados.Regiao.astype('category',ordered = True)\n",
    "estado.cat.categories = (\"Norte\",\"Nordeste\",\"Sudeste\",\"Sul\",\"Centro-Oeste\")\n",
    "trabalho.cat.categories = (\"Agrícola\",\"Atividades Industriais\",\"Industria de Transformação\",\"Construção\",\"Comércio e Reparação\",\"Alojamento e Alimentação\",\"Trans/Armaz/Comuni\",\"AP\",\"EDS/Social_Serv\",\"Outros/Soc\",\"Outros\",\"Mal-Def\")\n",
    "pd.crosstab(trabalho,estado) #crosstab que lista os empregos por Estado, a fim de averiguar os mais recorrentes"
   ]
  },
  {
   "cell_type": "code",
   "execution_count": null,
   "metadata": {
    "collapsed": true
   },
   "outputs": [],
   "source": [
    "trabalho.cat.categories = (\"Agrícola\",\"Atividades Industriais\",\"Industria de Transformação\",\"Construção\",\"Comércio e Reparação\",\"Alojamento e Alimentação\",\"Trans/Armaz/Comuni\",\"AP\",\"EDS/Social_Serv\",\"Outros/Soc\",\"Outros\",\"Mal-Def\")\n",
    "pd.crosstab(renda,trabalho) #crosstab que busca averiguar quais os empregos que pagam menos"
   ]
  },
  {
   "cell_type": "code",
   "execution_count": null,
   "metadata": {
    "collapsed": true
   },
   "outputs": [],
   "source": [
    "renda_aposentados = renda[(renda.aposentados)]\n",
    "renda_final = renda_aposentados.Regiao.value_counts(True)*100 #computa os valores de renda dos aposentados por Estado"
   ]
  },
  {
   "cell_type": "code",
   "execution_count": null,
   "metadata": {
    "collapsed": true
   },
   "outputs": [],
   "source": [
    "#com esse gráfico será possível ver a renda dos aposentados por Estado a fim de estipular uma comparação\n",
    "renda_final.plot(kind='pie',legend=False,title='Renda dos Aposentados por Estado')"
   ]
  },
  {
   "cell_type": "code",
   "execution_count": null,
   "metadata": {
    "collapsed": true
   },
   "outputs": [],
   "source": [
    "dados[\"Norte\"] = dados.Regiao[dados.UF <=16]\n",
    "dados[\"Nordeste\"] = dados.Regiao[(dados.UF >=17) & (dados.UF <=29)]\n",
    "dados[\"Sul\"] = dados.Regiao[(dados.UF >=41) & (dados.UF <=43)]\n",
    "dados[\"Sudeste\"] = dados.Regiao[(dados.UF >=31) & (dados.UF <=35)]\n",
    "dados[\"Centro_Oeste\"] = dados.Regiao[(dados.UF >=50) & (dados.UF <=53)]"
   ]
  },
  {
   "cell_type": "markdown",
   "metadata": {},
   "source": [
    "   A seguir, serão plotados histogramas da faixa etária dos aposentados por Estado, a fim de ver qual a maior \n",
    "expectativa de Vida, e buscar uma relação com os empregos daquele Estado."
   ]
  },
  {
   "cell_type": "code",
   "execution_count": null,
   "metadata": {
    "collapsed": true
   },
   "outputs": [],
   "source": [
    "aposentados.dados.Norte.plot.hist(title = \"Faixa Etária dos Aposentados no Norte\")\n",
    "aposentados.dados.Norte.describe()"
   ]
  },
  {
   "cell_type": "code",
   "execution_count": null,
   "metadata": {
    "collapsed": true
   },
   "outputs": [],
   "source": [
    "aposentados.dados.Nordeste.plot.hist(title = \"Faixa Etária dos Aposentados no Nordeste\")\n",
    "aposentados.dados.Nordeste.describe()"
   ]
  },
  {
   "cell_type": "code",
   "execution_count": null,
   "metadata": {
    "collapsed": true
   },
   "outputs": [],
   "source": [
    "aposentados.dados.Sul.plot.hist(title = \"Faixa Etária dos Aposentados no Sul\")\n",
    "aposentados.dados.Sul.describe()"
   ]
  },
  {
   "cell_type": "code",
   "execution_count": null,
   "metadata": {
    "collapsed": true
   },
   "outputs": [],
   "source": [
    "aposentados.dados.Sudeste.plot.hist(title = \"Faixa Etária dos Aposentados no Sudeste\")\n",
    "aposentados.dados.Sudeste.describe()"
   ]
  },
  {
   "cell_type": "code",
   "execution_count": null,
   "metadata": {
    "collapsed": true
   },
   "outputs": [],
   "source": [
    "aposentados.dados.Centro_Oeste.plot.hist(title = \"Faixa Etária dos Aposentados no Centro-Oeste\")\n",
    "aposentados.dados.Centro_Oeste.describe()"
   ]
  },
  {
   "cell_type": "markdown",
   "metadata": {},
   "source": [
    "   Por fim, serão feitos levantamentos de renda de aposentados por raça, seguidos de um box plot que retrata a média de renda no Brasil. Assim será possível observar se há uma disparidade racial quanto à renda domiciliar do aposentado\n",
    "brasileiro"
   ]
  },
  {
   "cell_type": "code",
   "execution_count": null,
   "metadata": {
    "collapsed": true
   },
   "outputs": [],
   "source": [
    "raca_aposentados = dados[dados.0404]\n",
    "raca.cat.categories = (\"Brancos\",\"Negros\",\"Amarelos\",\"Pardos\",\"Indígenas\",\"NDA\")\n",
    "pd.crosstab() #crosstab de renda por raça"
   ]
  },
  {
   "cell_type": "code",
   "execution_count": null,
   "metadata": {
    "collapsed": true
   },
   "outputs": [],
   "source": [
    "renda_aposentados.plot(kind='box', legend=False,title='Renda Domiciliar dos Brasileiros') #box plot com a renda dos aposentados a fim de comparar com os resultados do crosstab"
   ]
  },
  {
   "cell_type": "markdown",
   "metadata": {},
   "source": [
    "## Conclusão"
   ]
  },
  {
   "cell_type": "code",
   "execution_count": null,
   "metadata": {
    "collapsed": true
   },
   "outputs": [],
   "source": []
  }
 ],
 "metadata": {
  "kernelspec": {
   "display_name": "Python 3",
   "language": "python",
   "name": "python3"
  },
  "language_info": {
   "codemirror_mode": {
    "name": "ipython",
    "version": 3
   },
   "file_extension": ".py",
   "mimetype": "text/x-python",
   "name": "python",
   "nbconvert_exporter": "python",
   "pygments_lexer": "ipython3",
   "version": "3.5.2"
  }
 },
 "nbformat": 4,
 "nbformat_minor": 0
}
