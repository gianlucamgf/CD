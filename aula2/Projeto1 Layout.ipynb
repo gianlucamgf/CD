{
 "cells": [
  {
   "cell_type": "markdown",
   "metadata": {},
   "source": [
    "___\n",
    "# PROJETO 1"
   ]
  },
  {
   "cell_type": "markdown",
   "metadata": {},
   "source": [
    "## <font color='red'>Gianluca Formicola</font>\n",
    "___"
   ]
  },
  {
   "cell_type": "markdown",
   "metadata": {},
   "source": [
    "## <font color='blue'>Diferenças Sexistas Quanto a Aposentados: Existem?</font>"
   ]
  },
  {
   "cell_type": "markdown",
   "metadata": {},
   "source": [
    "   Um dos debates que mais entra em vigor nos dias atuais é a questão machista. A figura da mulher é, frequentemente, colocada em segundo plano, seja no ambiente coorporativo, no cootidiano, nas redes sociais, dentre outros casos. Partindo da premissa de que esse cenário machista persista ate os últimos dias dos indivíduos brasileiros, pretendo analisar as condições dos aposentados brasileiros quanto à renda e estudo, para ser capaz de frizar, ou não, que existe uma discriminação sexista quanto à distribuição de renda. \n",
    "   \n",
    "   Uma pesquisa realizada pelo jornal Valor Econômico no ano de 2014, busca uma resposta parecida com a porposta acima. Para tanto, Diogo Martins, colunista do jornal e autor da pesquisa, lança mão de dados estatísticos que visam justificar sua tese de que o rendimento feminino é menor do que o masculino. Martins laça mão de percentuais que refletem um aumento ou uma diminuição na renda feminina em alguns Estados, tais razões são feitas inteligentemente com relação à renda dos homens. Além disso, o economista busca comparar os dados analisados com aqueles de anos anteriores, a fim de categorizar a evolução da renda da mulher com relação à do homem ao longo dos anos. Segue o link para o artigo:\n",
    "\n",
    "http://www.valor.com.br/brasil/3760452/desigualdade-de-renda-cai-mas-mulher-ainda-ganha-30-menos-diz-ibge"
   ]
  },
  {
   "cell_type": "markdown",
   "metadata": {},
   "source": [
    "  "
   ]
  },
  {
   "cell_type": "markdown",
   "metadata": {},
   "source": [
    "   "
   ]
  },
  {
   "cell_type": "markdown",
   "metadata": {},
   "source": [
    "___\n",
    "## Análise e Resultados"
   ]
  },
  {
   "cell_type": "code",
   "execution_count": 1,
   "metadata": {
    "collapsed": true
   },
   "outputs": [],
   "source": [
    "%matplotlib inline\n",
    "import pandas as pd\n",
    "import matplotlib.pyplot as plt\n",
    "import numpy as np\n",
    "import os"
   ]
  },
  {
   "cell_type": "code",
   "execution_count": 2,
   "metadata": {
    "collapsed": false
   },
   "outputs": [
    {
     "name": "stdout",
     "output_type": "stream",
     "text": [
      "Esperamos trabalhar no diretório\n",
      "/Users/gianlucaformicola/Downloads/CD/aula2\n"
     ]
    }
   ],
   "source": [
    "print('Esperamos trabalhar no diretório')\n",
    "print(os.getcwd())"
   ]
  },
  {
   "cell_type": "code",
   "execution_count": 3,
   "metadata": {
    "collapsed": false
   },
   "outputs": [],
   "source": [
    "\"\"\"Vamos ler a estrutura da PNAD como um dataframe.\n",
    "    São muitas colunas e precisamos usar a informação de tamanho para ler a PNAD de fato\n",
    "    como uma base de tamanho fixo\"\"\"\n",
    "estrutura = pd.read_table(\"pes_py.txt\", sep=\";\")"
   ]
  },
  {
   "cell_type": "code",
   "execution_count": 4,
   "metadata": {
    "collapsed": false,
    "scrolled": true
   },
   "outputs": [
    {
     "data": {
      "text/html": [
       "<div>\n",
       "<table border=\"1\" class=\"dataframe\">\n",
       "  <thead>\n",
       "    <tr style=\"text-align: right;\">\n",
       "      <th></th>\n",
       "      <th>Coluna</th>\n",
       "      <th>Tamanho</th>\n",
       "      <th>Título</th>\n",
       "    </tr>\n",
       "  </thead>\n",
       "  <tbody>\n",
       "    <tr>\n",
       "      <th>0</th>\n",
       "      <td>V0101</td>\n",
       "      <td>4</td>\n",
       "      <td>Ano de referência</td>\n",
       "    </tr>\n",
       "    <tr>\n",
       "      <th>1</th>\n",
       "      <td>UF</td>\n",
       "      <td>2</td>\n",
       "      <td>Unidade da Federação</td>\n",
       "    </tr>\n",
       "    <tr>\n",
       "      <th>2</th>\n",
       "      <td>V0102</td>\n",
       "      <td>6</td>\n",
       "      <td>Número de controle</td>\n",
       "    </tr>\n",
       "    <tr>\n",
       "      <th>3</th>\n",
       "      <td>V0103</td>\n",
       "      <td>3</td>\n",
       "      <td>Número de série</td>\n",
       "    </tr>\n",
       "    <tr>\n",
       "      <th>4</th>\n",
       "      <td>V0301</td>\n",
       "      <td>2</td>\n",
       "      <td>Número de ordem</td>\n",
       "    </tr>\n",
       "  </tbody>\n",
       "</table>\n",
       "</div>"
      ],
      "text/plain": [
       "  Coluna  Tamanho                Título\n",
       "0  V0101        4     Ano de referência\n",
       "1     UF        2  Unidade da Federação\n",
       "2  V0102        6    Número de controle\n",
       "3  V0103        3       Número de série\n",
       "4  V0301        2       Número de ordem"
      ]
     },
     "execution_count": 4,
     "metadata": {},
     "output_type": "execute_result"
    }
   ],
   "source": []
  },
  {
   "cell_type": "code",
   "execution_count": 5,
   "metadata": {
    "collapsed": false
   },
   "outputs": [],
   "source": [
    "# Se quiser uma leitura mais rápida, use o arquivo descompactado. Não esqueça de adicionar ao seu .gitignore\n",
    "pnad2014 = pd.read_fwf(\"PES2014.txt\", widths=estrutura.Tamanho, header=None)\n",
    "\n",
    "# Se quiser economizar espaço, use o arquivo Zip\n",
    "#pnad2014 = pd.read_fwf(\"PES2014.zip\", widths=estrutura.Tamanho, header=None, compression=\"zip\")"
   ]
  },
  {
   "cell_type": "code",
   "execution_count": 6,
   "metadata": {
    "collapsed": false
   },
   "outputs": [
    {
     "data": {
      "text/html": [
       "<div>\n",
       "<table border=\"1\" class=\"dataframe\">\n",
       "  <thead>\n",
       "    <tr style=\"text-align: right;\">\n",
       "      <th></th>\n",
       "      <th>0</th>\n",
       "      <th>1</th>\n",
       "      <th>2</th>\n",
       "      <th>3</th>\n",
       "      <th>4</th>\n",
       "      <th>5</th>\n",
       "      <th>6</th>\n",
       "      <th>7</th>\n",
       "      <th>8</th>\n",
       "      <th>9</th>\n",
       "      <th>...</th>\n",
       "      <th>331</th>\n",
       "      <th>332</th>\n",
       "      <th>333</th>\n",
       "      <th>334</th>\n",
       "      <th>335</th>\n",
       "      <th>336</th>\n",
       "      <th>337</th>\n",
       "      <th>338</th>\n",
       "      <th>339</th>\n",
       "      <th>340</th>\n",
       "    </tr>\n",
       "  </thead>\n",
       "  <tbody>\n",
       "    <tr>\n",
       "      <th>0</th>\n",
       "      <td>2014</td>\n",
       "      <td>11</td>\n",
       "      <td>15</td>\n",
       "      <td>1</td>\n",
       "      <td>1</td>\n",
       "      <td>2</td>\n",
       "      <td>19</td>\n",
       "      <td>8</td>\n",
       "      <td>1987</td>\n",
       "      <td>27</td>\n",
       "      <td>...</td>\n",
       "      <td>3</td>\n",
       "      <td>500</td>\n",
       "      <td>3</td>\n",
       "      <td>3</td>\n",
       "      <td>1</td>\n",
       "      <td>2</td>\n",
       "      <td>2</td>\n",
       "      <td>1</td>\n",
       "      <td>500</td>\n",
       "      <td>20160623</td>\n",
       "    </tr>\n",
       "    <tr>\n",
       "      <th>1</th>\n",
       "      <td>2014</td>\n",
       "      <td>11</td>\n",
       "      <td>15</td>\n",
       "      <td>1</td>\n",
       "      <td>2</td>\n",
       "      <td>4</td>\n",
       "      <td>19</td>\n",
       "      <td>1</td>\n",
       "      <td>1986</td>\n",
       "      <td>28</td>\n",
       "      <td>...</td>\n",
       "      <td>3</td>\n",
       "      <td>500</td>\n",
       "      <td>3</td>\n",
       "      <td>4</td>\n",
       "      <td>2</td>\n",
       "      <td>NaN</td>\n",
       "      <td>2</td>\n",
       "      <td>1</td>\n",
       "      <td>500</td>\n",
       "      <td>20160623</td>\n",
       "    </tr>\n",
       "    <tr>\n",
       "      <th>2</th>\n",
       "      <td>2014</td>\n",
       "      <td>11</td>\n",
       "      <td>15</td>\n",
       "      <td>1</td>\n",
       "      <td>3</td>\n",
       "      <td>2</td>\n",
       "      <td>14</td>\n",
       "      <td>5</td>\n",
       "      <td>2013</td>\n",
       "      <td>1</td>\n",
       "      <td>...</td>\n",
       "      <td>3</td>\n",
       "      <td>500</td>\n",
       "      <td>3</td>\n",
       "      <td>1</td>\n",
       "      <td>NaN</td>\n",
       "      <td>NaN</td>\n",
       "      <td>NaN</td>\n",
       "      <td>NaN</td>\n",
       "      <td>500</td>\n",
       "      <td>20160623</td>\n",
       "    </tr>\n",
       "    <tr>\n",
       "      <th>3</th>\n",
       "      <td>2014</td>\n",
       "      <td>11</td>\n",
       "      <td>15</td>\n",
       "      <td>2</td>\n",
       "      <td>1</td>\n",
       "      <td>2</td>\n",
       "      <td>8</td>\n",
       "      <td>4</td>\n",
       "      <td>1963</td>\n",
       "      <td>51</td>\n",
       "      <td>...</td>\n",
       "      <td>2</td>\n",
       "      <td>1150</td>\n",
       "      <td>4</td>\n",
       "      <td>2</td>\n",
       "      <td>1</td>\n",
       "      <td>2</td>\n",
       "      <td>2</td>\n",
       "      <td>1</td>\n",
       "      <td>1150</td>\n",
       "      <td>20160623</td>\n",
       "    </tr>\n",
       "    <tr>\n",
       "      <th>4</th>\n",
       "      <td>2014</td>\n",
       "      <td>11</td>\n",
       "      <td>15</td>\n",
       "      <td>2</td>\n",
       "      <td>2</td>\n",
       "      <td>4</td>\n",
       "      <td>6</td>\n",
       "      <td>11</td>\n",
       "      <td>1970</td>\n",
       "      <td>43</td>\n",
       "      <td>...</td>\n",
       "      <td>2</td>\n",
       "      <td>1150</td>\n",
       "      <td>4</td>\n",
       "      <td>3</td>\n",
       "      <td>1</td>\n",
       "      <td>2</td>\n",
       "      <td>2</td>\n",
       "      <td>1</td>\n",
       "      <td>1150</td>\n",
       "      <td>20160623</td>\n",
       "    </tr>\n",
       "  </tbody>\n",
       "</table>\n",
       "<p>5 rows × 341 columns</p>\n",
       "</div>"
      ],
      "text/plain": [
       "    0    1    2    3    4    5    6    7     8    9      ...     331   332  \\\n",
       "0  2014   11   15    1    1    2   19    8  1987   27    ...       3   500   \n",
       "1  2014   11   15    1    2    4   19    1  1986   28    ...       3   500   \n",
       "2  2014   11   15    1    3    2   14    5  2013    1    ...       3   500   \n",
       "3  2014   11   15    2    1    2    8    4  1963   51    ...       2  1150   \n",
       "4  2014   11   15    2    2    4    6   11  1970   43    ...       2  1150   \n",
       "\n",
       "   333  334  335  336  337  338   339       340  \n",
       "0    3    3    1    2    2    1   500  20160623  \n",
       "1    3    4    2  NaN    2    1   500  20160623  \n",
       "2    3    1  NaN  NaN  NaN  NaN   500  20160623  \n",
       "3    4    2    1    2    2    1  1150  20160623  \n",
       "4    4    3    1    2    2    1  1150  20160623  \n",
       "\n",
       "[5 rows x 341 columns]"
      ]
     },
     "execution_count": 6,
     "metadata": {},
     "output_type": "execute_result"
    }
   ],
   "source": []
  },
  {
   "cell_type": "code",
   "execution_count": 7,
   "metadata": {
    "collapsed": false
   },
   "outputs": [
    {
     "data": {
      "text/plain": [
       "Index(['Coluna', 'Tamanho', 'Título'], dtype='object')"
      ]
     },
     "execution_count": 7,
     "metadata": {},
     "output_type": "execute_result"
    }
   ],
   "source": [
    "estrutura.columns"
   ]
  },
  {
   "cell_type": "code",
   "execution_count": 8,
   "metadata": {
    "collapsed": false
   },
   "outputs": [],
   "source": [
    "pnad2014.columns = estrutura.Coluna\n",
    "dados = pnad2014"
   ]
  },
  {
   "cell_type": "code",
   "execution_count": 9,
   "metadata": {
    "collapsed": false
   },
   "outputs": [
    {
     "data": {
      "text/html": [
       "<div>\n",
       "<table border=\"1\" class=\"dataframe\">\n",
       "  <thead>\n",
       "    <tr style=\"text-align: right;\">\n",
       "      <th>Coluna</th>\n",
       "      <th>V0101</th>\n",
       "      <th>UF</th>\n",
       "      <th>V0102</th>\n",
       "      <th>V0103</th>\n",
       "      <th>V0301</th>\n",
       "      <th>V0302</th>\n",
       "      <th>V3031</th>\n",
       "      <th>V3032</th>\n",
       "      <th>V3033</th>\n",
       "      <th>V8005</th>\n",
       "      <th>...</th>\n",
       "      <th>V4741</th>\n",
       "      <th>V4742</th>\n",
       "      <th>V4743</th>\n",
       "      <th>V4745</th>\n",
       "      <th>V4746</th>\n",
       "      <th>V4747</th>\n",
       "      <th>V4748</th>\n",
       "      <th>V4749</th>\n",
       "      <th>V4750</th>\n",
       "      <th>V9993</th>\n",
       "    </tr>\n",
       "  </thead>\n",
       "  <tbody>\n",
       "    <tr>\n",
       "      <th>0</th>\n",
       "      <td>2014</td>\n",
       "      <td>11</td>\n",
       "      <td>15</td>\n",
       "      <td>1</td>\n",
       "      <td>1</td>\n",
       "      <td>2</td>\n",
       "      <td>19</td>\n",
       "      <td>8</td>\n",
       "      <td>1987</td>\n",
       "      <td>27</td>\n",
       "      <td>...</td>\n",
       "      <td>3</td>\n",
       "      <td>500</td>\n",
       "      <td>3</td>\n",
       "      <td>3</td>\n",
       "      <td>1</td>\n",
       "      <td>2</td>\n",
       "      <td>2</td>\n",
       "      <td>1</td>\n",
       "      <td>500</td>\n",
       "      <td>20160623</td>\n",
       "    </tr>\n",
       "    <tr>\n",
       "      <th>1</th>\n",
       "      <td>2014</td>\n",
       "      <td>11</td>\n",
       "      <td>15</td>\n",
       "      <td>1</td>\n",
       "      <td>2</td>\n",
       "      <td>4</td>\n",
       "      <td>19</td>\n",
       "      <td>1</td>\n",
       "      <td>1986</td>\n",
       "      <td>28</td>\n",
       "      <td>...</td>\n",
       "      <td>3</td>\n",
       "      <td>500</td>\n",
       "      <td>3</td>\n",
       "      <td>4</td>\n",
       "      <td>2</td>\n",
       "      <td>NaN</td>\n",
       "      <td>2</td>\n",
       "      <td>1</td>\n",
       "      <td>500</td>\n",
       "      <td>20160623</td>\n",
       "    </tr>\n",
       "    <tr>\n",
       "      <th>2</th>\n",
       "      <td>2014</td>\n",
       "      <td>11</td>\n",
       "      <td>15</td>\n",
       "      <td>1</td>\n",
       "      <td>3</td>\n",
       "      <td>2</td>\n",
       "      <td>14</td>\n",
       "      <td>5</td>\n",
       "      <td>2013</td>\n",
       "      <td>1</td>\n",
       "      <td>...</td>\n",
       "      <td>3</td>\n",
       "      <td>500</td>\n",
       "      <td>3</td>\n",
       "      <td>1</td>\n",
       "      <td>NaN</td>\n",
       "      <td>NaN</td>\n",
       "      <td>NaN</td>\n",
       "      <td>NaN</td>\n",
       "      <td>500</td>\n",
       "      <td>20160623</td>\n",
       "    </tr>\n",
       "    <tr>\n",
       "      <th>3</th>\n",
       "      <td>2014</td>\n",
       "      <td>11</td>\n",
       "      <td>15</td>\n",
       "      <td>2</td>\n",
       "      <td>1</td>\n",
       "      <td>2</td>\n",
       "      <td>8</td>\n",
       "      <td>4</td>\n",
       "      <td>1963</td>\n",
       "      <td>51</td>\n",
       "      <td>...</td>\n",
       "      <td>2</td>\n",
       "      <td>1150</td>\n",
       "      <td>4</td>\n",
       "      <td>2</td>\n",
       "      <td>1</td>\n",
       "      <td>2</td>\n",
       "      <td>2</td>\n",
       "      <td>1</td>\n",
       "      <td>1150</td>\n",
       "      <td>20160623</td>\n",
       "    </tr>\n",
       "    <tr>\n",
       "      <th>4</th>\n",
       "      <td>2014</td>\n",
       "      <td>11</td>\n",
       "      <td>15</td>\n",
       "      <td>2</td>\n",
       "      <td>2</td>\n",
       "      <td>4</td>\n",
       "      <td>6</td>\n",
       "      <td>11</td>\n",
       "      <td>1970</td>\n",
       "      <td>43</td>\n",
       "      <td>...</td>\n",
       "      <td>2</td>\n",
       "      <td>1150</td>\n",
       "      <td>4</td>\n",
       "      <td>3</td>\n",
       "      <td>1</td>\n",
       "      <td>2</td>\n",
       "      <td>2</td>\n",
       "      <td>1</td>\n",
       "      <td>1150</td>\n",
       "      <td>20160623</td>\n",
       "    </tr>\n",
       "  </tbody>\n",
       "</table>\n",
       "<p>5 rows × 341 columns</p>\n",
       "</div>"
      ],
      "text/plain": [
       "Coluna  V0101  UF  V0102  V0103  V0301  V0302  V3031  V3032  V3033  V8005  \\\n",
       "0        2014  11     15      1      1      2     19      8   1987     27   \n",
       "1        2014  11     15      1      2      4     19      1   1986     28   \n",
       "2        2014  11     15      1      3      2     14      5   2013      1   \n",
       "3        2014  11     15      2      1      2      8      4   1963     51   \n",
       "4        2014  11     15      2      2      4      6     11   1970     43   \n",
       "\n",
       "Coluna    ...     V4741  V4742  V4743  V4745  V4746  V4747  V4748  V4749  \\\n",
       "0         ...         3    500      3      3      1      2      2      1   \n",
       "1         ...         3    500      3      4      2    NaN      2      1   \n",
       "2         ...         3    500      3      1    NaN    NaN    NaN    NaN   \n",
       "3         ...         2   1150      4      2      1      2      2      1   \n",
       "4         ...         2   1150      4      3      1      2      2      1   \n",
       "\n",
       "Coluna  V4750     V9993  \n",
       "0         500  20160623  \n",
       "1         500  20160623  \n",
       "2         500  20160623  \n",
       "3        1150  20160623  \n",
       "4        1150  20160623  \n",
       "\n",
       "[5 rows x 341 columns]"
      ]
     },
     "execution_count": 9,
     "metadata": {},
     "output_type": "execute_result"
    }
   ],
   "source": [
    "pnad2014.head()"
   ]
  },
  {
   "cell_type": "code",
   "execution_count": 10,
   "metadata": {
    "collapsed": false,
    "scrolled": true
   },
   "outputs": [],
   "source": [
    "aposentados = dados[dados.V9122 == 2]  # filtra apenas os aposentados"
   ]
  },
  {
   "cell_type": "code",
   "execution_count": 26,
   "metadata": {
    "collapsed": true
   },
   "outputs": [],
   "source": [
    "aposentados_h = aposentados[aposentados.V0302 == 2] # filtra apenas aposentados homens"
   ]
  },
  {
   "cell_type": "code",
   "execution_count": 27,
   "metadata": {
    "collapsed": true
   },
   "outputs": [],
   "source": [
    "aposentados_m = aposentados[aposentados.V0302 == 4] # filtra apenas aposentadas mulheres"
   ]
  },
  {
   "cell_type": "code",
   "execution_count": 28,
   "metadata": {
    "collapsed": false
   },
   "outputs": [],
   "source": [
    "ativos = dados[dados.V9122 == 4] # filtra apenas a PEA(População Econômicamente Ativa)\n",
    "renda = aposentados.V4743.astype('category',ordered=True) # filtra a renda dos aposentados em número de salários mínimos"
   ]
  },
  {
   "cell_type": "code",
   "execution_count": 38,
   "metadata": {
    "collapsed": true
   },
   "outputs": [],
   "source": [
    "ativos_h = ativos[ativos.V0302 == 2] # filtra apenas a PEA masculina"
   ]
  },
  {
   "cell_type": "code",
   "execution_count": 39,
   "metadata": {
    "collapsed": true
   },
   "outputs": [],
   "source": [
    "ativos_m = ativos[ativos.V0302 == 4] # filtra apenas a PEA feminina"
   ]
  },
  {
   "cell_type": "markdown",
   "metadata": {},
   "source": [
    "   A seguir, serão plotados dois gráficos(para homens e mulheres). Ambos mostram a porcentagem do respectivo sexo que é aposentada(após os 60 anos para homens e após os 55 para as mulheres, pois legalmente a idade eh diferente)"
   ]
  },
  {
   "cell_type": "code",
   "execution_count": 80,
   "metadata": {
    "collapsed": false
   },
   "outputs": [],
   "source": [
    "homens = dados[dados.V0302 == 2]"
   ]
  },
  {
   "cell_type": "code",
   "execution_count": 81,
   "metadata": {
    "collapsed": false
   },
   "outputs": [],
   "source": [
    "mulheres = dados[dados.V0302 == 4]"
   ]
  },
  {
   "cell_type": "code",
   "execution_count": 82,
   "metadata": {
    "collapsed": false
   },
   "outputs": [
    {
     "data": {
      "text/plain": [
       "<matplotlib.axes._subplots.AxesSubplot at 0x1683628d0>"
      ]
     },
     "execution_count": 82,
     "metadata": {},
     "output_type": "execute_result"
    },
    {
     "data": {
      "image/png": "[encoded data removed]",
      "text/plain": [
       "<matplotlib.figure.Figure at 0x21c45d240>"
      ]
     },
     "metadata": {},
     "output_type": "display_data"
    }
   ],
   "source": [
    "idosos = homens[(homens.V8005 >= 60)] # filtra os homens acima de 60 anos\n",
    "camadas_h = idosos.V9122.astype('category',ordered=True) # filtra os idosos aposentados\n",
    "camadas_h.cat.categories = (\"Aposentados\", \"Não aposentados\") \n",
    "camadas_h.value_counts(True).plot(kind='pie', autopct = \"%0.2f\", title=\"Porcentagem de Homens aposentados acima de 60 anos\")"
   ]
  },
  {
   "cell_type": "code",
   "execution_count": 83,
   "metadata": {
    "collapsed": false
   },
   "outputs": [
    {
     "data": {
      "text/plain": [
       "Aposentados        15367\n",
       "Não aposentados     5666\n",
       "dtype: int64"
      ]
     },
     "execution_count": 83,
     "metadata": {},
     "output_type": "execute_result"
    }
   ],
   "source": [
    "camadas_h.value_counts()"
   ]
  },
  {
   "cell_type": "code",
   "execution_count": 32,
   "metadata": {
    "collapsed": false
   },
   "outputs": [
    {
     "data": {
      "text/plain": [
       "<matplotlib.axes._subplots.AxesSubplot at 0x12f5ae390>"
      ]
     },
     "execution_count": 32,
     "metadata": {},
     "output_type": "execute_result"
    },
    {
     "data": {
      "image/png": "[encoded data removed]",
      "text/plain": [
       "<matplotlib.figure.Figure at 0x12f5bc470>"
      ]
     },
     "metadata": {},
     "output_type": "display_data"
    }
   ],
   "source": [
    "idosas = mulheres[(mulheres.V8005 >= 55)] # separa apenas as mulheres acima de 55 anos\n",
    "camadas_m = idosas.V9122.astype('category',ordered=True) # separa apenas as idosas aposentadas\n",
    "camadas_m.cat.categories = (\"Aposentados\", \"Não aposentados\")\n",
    "camadas_m.value_counts(True).plot(kind='pie', autopct = \"%0.2f\",title=\"Porcentagem de Mulheres Aposentadas Acima de 55 Anos\")"
   ]
  },
  {
   "cell_type": "code",
   "execution_count": 84,
   "metadata": {
    "collapsed": false
   },
   "outputs": [
    {
     "data": {
      "text/plain": [
       "Não aposentados    18271\n",
       "Aposentados        18108\n",
       "dtype: int64"
      ]
     },
     "execution_count": 84,
     "metadata": {},
     "output_type": "execute_result"
    }
   ],
   "source": [
    "camadas_m.value_counts()"
   ]
  },
  {
   "cell_type": "markdown",
   "metadata": {},
   "source": [
    "   A partir dos gráficos acima, é possível vizualizar claramente que os homens se aposentam muito depois das mulheres,\n",
    "tal diferença pode ser devido não apenas à idade legal de aposentadoria dos dois sexos, mas devido ao fato de que, de acordo tão somente com esses gráficos, as mulheres se aosentam antes pois engajam - se em trabalhos domésticos."
   ]
  },
  {
   "cell_type": "markdown",
   "metadata": {},
   "source": [
    "Os histogramas abaixo, que contém a faixa etária de homens e mulheres aposentados, visa a uma análise mais profunda dos gráficos de pizza acima, além de possibiltar a vizualização da expectativa de vida de aposentados homens e mulheres."
   ]
  },
  {
   "cell_type": "code",
   "execution_count": 85,
   "metadata": {
    "collapsed": false
   },
   "outputs": [
    {
     "data": {
      "text/plain": [
       "<matplotlib.axes._subplots.AxesSubplot at 0x168390a90>"
      ]
     },
     "execution_count": 85,
     "metadata": {},
     "output_type": "execute_result"
    },
    {
     "data": {
      "image/png": "[encoded data removed]",
      "text/plain": [
       "<matplotlib.figure.Figure at 0x1683892b0>"
      ]
     },
     "metadata": {},
     "output_type": "display_data"
    }
   ],
   "source": [
    "faixas = np.arange(50,100,5) # separa em faixas de 5 anos as idades de homens aposentados até os 95 anos\n",
    "aposentados_h.V8005.plot.hist(title=\"Faixa Etária de aposentados homens\",bins=faixas,color='red')"
   ]
  },
  {
   "cell_type": "code",
   "execution_count": 86,
   "metadata": {
    "collapsed": false
   },
   "outputs": [
    {
     "data": {
      "text/plain": [
       "<matplotlib.axes._subplots.AxesSubplot at 0x1685a8780>"
      ]
     },
     "execution_count": 86,
     "metadata": {},
     "output_type": "execute_result"
    },
    {
     "data": {
      "image/png": "[encoded data removed]",
      "text/plain": [
       "<matplotlib.figure.Figure at 0x1685b3d68>"
      ]
     },
     "metadata": {},
     "output_type": "display_data"
    }
   ],
   "source": [
    "faixas = np.arange(50,100,5) # separa em faixas de 5 anos as idades das mulheres aposentadas até 95 anos\n",
    "aposentados_m.V8005.plot.hist(title=\"Faixa Etária de aposentados mulheres\",bins=faixas,color='green')"
   ]
  },
  {
   "cell_type": "markdown",
   "metadata": {},
   "source": [
    "Esses gráficos permitem inferir que a expectativa de vida de homens e mulheres é muito similar. Todavia, vale ressaltar que tais gráficos possibilitaram uma análise mais profunda dos gráficos de pizza, uma vez que foi possível frizar que a faixa etária que contém o maior número de aposentados em ambos os sexos, é aquela que se dá entre 5 e 10 anos após a idade legal de aposentadoria(60 para homens e 55 para mulheres). Devido a isso, é possível constatar que a premissa feita anteriormente sobre a aposentadoria precoce feminina é pouco afetada pela idade legal de aposentadoria. Tal fato pode constatar a tese de que mulheres se aposentam antes para cuidarem de trabalhos domésticos."
   ]
  },
  {
   "cell_type": "markdown",
   "metadata": {},
   "source": [
    "Abaixo será feito um crosstab de homens e mulheres de acordo com sua renda em salários mínimos. Somada à tabela,\n",
    "será plotado um gráfico que expressa a distribuição de renda descrita no referido crosstab."
   ]
  },
  {
   "cell_type": "code",
   "execution_count": 88,
   "metadata": {
    "collapsed": false
   },
   "outputs": [
    {
     "data": {
      "text/html": [
       "<div>\n",
       "<table border=\"1\" class=\"dataframe\">\n",
       "  <thead>\n",
       "    <tr style=\"text-align: right;\">\n",
       "      <th>V4743</th>\n",
       "      <th>Até 1/4 salário mínimo</th>\n",
       "      <th>Mais de 1/4 até 1/2 salário mínimo</th>\n",
       "      <th>Mais de 1/2 até 1 salário mínimo</th>\n",
       "      <th>Mais de 1 até 2 salários mínimos</th>\n",
       "      <th>Mais de 2 até 3 salários mínimos</th>\n",
       "      <th>Mais de 3 até 5 salários mínimos</th>\n",
       "      <th>Mais de 5 salários mínimos</th>\n",
       "      <th>Não Declarado</th>\n",
       "    </tr>\n",
       "    <tr>\n",
       "      <th>V0302</th>\n",
       "      <th></th>\n",
       "      <th></th>\n",
       "      <th></th>\n",
       "      <th></th>\n",
       "      <th></th>\n",
       "      <th></th>\n",
       "      <th></th>\n",
       "      <th></th>\n",
       "    </tr>\n",
       "  </thead>\n",
       "  <tbody>\n",
       "    <tr>\n",
       "      <th>Homens</th>\n",
       "      <td>126</td>\n",
       "      <td>1408</td>\n",
       "      <td>6131</td>\n",
       "      <td>5812</td>\n",
       "      <td>2016</td>\n",
       "      <td>1345</td>\n",
       "      <td>1284</td>\n",
       "      <td>886</td>\n",
       "    </tr>\n",
       "    <tr>\n",
       "      <th>Mulheres</th>\n",
       "      <td>91</td>\n",
       "      <td>1138</td>\n",
       "      <td>6210</td>\n",
       "      <td>6289</td>\n",
       "      <td>2057</td>\n",
       "      <td>1500</td>\n",
       "      <td>1458</td>\n",
       "      <td>863</td>\n",
       "    </tr>\n",
       "  </tbody>\n",
       "</table>\n",
       "</div>"
      ],
      "text/plain": [
       "V4743     Até 1/4 salário mínimo  Mais de 1/4 até 1/2 salário mínimo  \\\n",
       "V0302                                                                  \n",
       "Homens                       126                                1408   \n",
       "Mulheres                      91                                1138   \n",
       "\n",
       "V4743     Mais de 1/2 até 1 salário mínimo  Mais de 1 até 2 salários mínimos  \\\n",
       "V0302                                                                          \n",
       "Homens                                6131                              5812   \n",
       "Mulheres                              6210                              6289   \n",
       "\n",
       "V4743     Mais de 2 até 3 salários mínimos  Mais de 3 até 5 salários mínimos  \\\n",
       "V0302                                                                          \n",
       "Homens                                2016                              1345   \n",
       "Mulheres                              2057                              1500   \n",
       "\n",
       "V4743     Mais de 5 salários mínimos  Não Declarado  \n",
       "V0302                                                \n",
       "Homens                          1284            886  \n",
       "Mulheres                        1458            863  "
      ]
     },
     "execution_count": 88,
     "metadata": {},
     "output_type": "execute_result"
    }
   ],
   "source": [
    "sexo = aposentados.V0302.astype('category',ordered=True) # pega homens e mulheres aposentados\n",
    "sexo.cat.categories = (\"Homens\",\"Mulheres\")\n",
    "sexo.value_counts()\n",
    "\n",
    "renda.cat.categories = \"Até 1/4 salário mínimo\",\"Mais de 1/4 até 1/2 salário mínimo\",\"Mais de 1/2 até 1 salário mínimo\",\"Mais de 1 até 2 salários mínimos\",\"Mais de 2 até 3 salários mínimos\",\"Mais de 3 até 5 salários mínimos\",\"Mais de 5 salários mínimos\",\"Não Declarado\"\n",
    "renda_genero = pd.crosstab(sexo,renda)\n",
    "renda_genero"
   ]
  },
  {
   "cell_type": "code",
   "execution_count": 62,
   "metadata": {
    "collapsed": false
   },
   "outputs": [
    {
     "data": {
      "text/plain": [
       "Mulheres    50.793158\n",
       "Homens      49.206842\n",
       "dtype: float64"
      ]
     },
     "execution_count": 62,
     "metadata": {},
     "output_type": "execute_result"
    },
    {
     "data": {
      "image/png": "[encoded data removed]",
      "text/plain": [
       "<matplotlib.figure.Figure at 0x210a83240>"
      ]
     },
     "metadata": {},
     "output_type": "display_data"
    }
   ],
   "source": [
    "renda_genero.plot(kind='bar',title=\"Distribuição de Renda dos aposentados e aposentadas\").legend(bbox_to_anchor=(1.05, 1), loc=2, borderaxespad=0.)\n",
    "sexo.value_counts(normalize = True)*100"
   ]
  },
  {
   "cell_type": "markdown",
   "metadata": {},
   "source": [
    "O gráfico e tabela acima constatam que não há grande disparidade de renda entre homens e mulheres aposentados.\n",
    "Tal igualdade pode ser fruto da não separação de homens e mulheres em sistema de previdência público e privado.\n",
    "Tal premissa é um argumento a favor do governo, uma vez que, se verdadeira, ilustra a distribuição de renda igualitária\n",
    "entre gêneros no setor de previdência público, o que torna os gráficos parelhos"
   ]
  },
  {
   "cell_type": "markdown",
   "metadata": {},
   "source": [
    "   A seguir será comparada a renda dos aposentados com a dos trabalhadores ativos. Serão plotados 4 gráficos, para homens e mulheres ativos e aposentados. Vale ressaltar, que selecionei apenas uma parcela de aposentados que ganha menos de 40000 reais mensais. Tal escolhe foi feita devido ao fato de os gráficos ficarem mais claros nessa faixa, além de abrangirem uma camada mais humilde da população. A renda retratada nos gráficos abaixo não será aquela refletida em salários mínimos."
   ]
  },
  {
   "cell_type": "code",
   "execution_count": 95,
   "metadata": {
    "collapsed": false
   },
   "outputs": [
    {
     "data": {
      "text/plain": [
       "<matplotlib.axes._subplots.AxesSubplot at 0x1f836e5f8>"
      ]
     },
     "execution_count": 95,
     "metadata": {},
     "output_type": "execute_result"
    },
    {
     "data": {
      "image/png": "[encoded data removed]",
      "text/plain": [
       "<matplotlib.figure.Figure at 0x1f83777b8>"
      ]
     },
     "metadata": {},
     "output_type": "display_data"
    }
   ],
   "source": [
    "renda_aposentados_h = aposentados_h[aposentados_h.V4720 < 40000] # apenas homens aposentados que ganham menos de 40000 reais\n",
    "renda_ativos_h = ativos_h[ativos_h.V4720 < 40000] # apenas homens PEA que ganham menos de 40000 reais\n",
    "\n",
    "faixas = np.arange(40,4000,100)\n",
    "renda_ativos_h.V4720.plot(title=\"Renda dos Não Aposentados Homens\",kind='hist',bins=faixas,color = 'red')"
   ]
  },
  {
   "cell_type": "code",
   "execution_count": 96,
   "metadata": {
    "collapsed": false
   },
   "outputs": [
    {
     "data": {
      "text/plain": [
       "<matplotlib.axes._subplots.AxesSubplot at 0x1f3b04780>"
      ]
     },
     "execution_count": 96,
     "metadata": {},
     "output_type": "execute_result"
    },
    {
     "data": {
      "image/png": "[encoded data removed]",
      "text/plain": [
       "<matplotlib.figure.Figure at 0x1f759ef28>"
      ]
     },
     "metadata": {},
     "output_type": "display_data"
    }
   ],
   "source": [
    "renda_aposentados_h.V4720.plot(title=\"Renda dos Aposentados Homens\",kind='hist',bins=faixas,color = 'red')"
   ]
  },
  {
   "cell_type": "code",
   "execution_count": 97,
   "metadata": {
    "collapsed": false
   },
   "outputs": [
    {
     "data": {
      "text/plain": [
       "<matplotlib.axes._subplots.AxesSubplot at 0x16a092e48>"
      ]
     },
     "execution_count": 97,
     "metadata": {},
     "output_type": "execute_result"
    },
    {
     "data": {
      "image/png": "[encoded data removed]",
      "text/plain": [
       "<matplotlib.figure.Figure at 0x16a09ce10>"
      ]
     },
     "metadata": {},
     "output_type": "display_data"
    }
   ],
   "source": [
    "renda_aposentados_m = aposentados_m[aposentados_m.V4720 < 40000] # apenas mulheres aposentadas que ganham menos de 40000 reais\n",
    "renda_ativos_m = ativos_m[ativos_m.V4720 < 40000] # apenas homens PEA que ganham menos de 40000 reais\n",
    "\n",
    "faixas = np.arange(40,4000,100)\n",
    "renda_ativos_m.V4720.plot(title=\"Renda das Não Aposentadas Mulheres\",kind='hist',bins=faixas,color = 'green')"
   ]
  },
  {
   "cell_type": "code",
   "execution_count": 98,
   "metadata": {
    "collapsed": false
   },
   "outputs": [
    {
     "data": {
      "text/plain": [
       "<matplotlib.axes._subplots.AxesSubplot at 0x1f0a03160>"
      ]
     },
     "execution_count": 98,
     "metadata": {},
     "output_type": "execute_result"
    },
    {
     "data": {
      "image/png": "[encoded data removed]",
      "text/plain": [
       "<matplotlib.figure.Figure at 0x1f3aea0b8>"
      ]
     },
     "metadata": {},
     "output_type": "display_data"
    }
   ],
   "source": [
    "renda_aposentados_h.V4720.plot(title=\"Renda das Aposentadas Mulheres\",kind='hist',bins=faixas,color = 'green')"
   ]
  },
  {
   "cell_type": "markdown",
   "metadata": {},
   "source": [
    "Os gráficos acima permitem constatar algo interessante. A disparidade sexista de renda é evidente na população\n",
    "econômicamente ativa, entretanto, tal disparidade não é mais visível após a aposentadoria. Com isso\n",
    "é válido supôr que houve uma influência das previdências públicas nos gráficos do item anterior."
   ]
  },
  {
   "cell_type": "code",
   "execution_count": null,
   "metadata": {
    "collapsed": true
   },
   "outputs": [],
   "source": [
    "Abaixo, serão plotados gráficos box-plot que visam comparar a renda de homens e mulheres aposentados com e sem diploma\n",
    "escolar."
   ]
  },
  {
   "cell_type": "code",
   "execution_count": 99,
   "metadata": {
    "collapsed": true
   },
   "outputs": [],
   "source": [
    "diploma_aps_h = aposentados_h[aposentados_h.V6007 >= 8] #coluna apenas com os trabalhadores que possuem diploma\n",
    "sem_diploma_aps_h = aposentados_h[aposentados_h.V6007 < 8]"
   ]
  },
  {
   "cell_type": "code",
   "execution_count": 109,
   "metadata": {
    "collapsed": false
   },
   "outputs": [
    {
     "data": {
      "text/plain": [
       "<matplotlib.axes._subplots.AxesSubplot at 0x1f3b41fd0>"
      ]
     },
     "execution_count": 109,
     "metadata": {},
     "output_type": "execute_result"
    },
    {
     "data": {
      "image/png": "[encoded data removed]",
      "text/plain": [
       "<matplotlib.figure.Figure at 0x16a5fa588>"
      ]
     },
     "metadata": {},
     "output_type": "display_data"
    }
   ],
   "source": [
    "renda_aps_diploma_h = diploma_aps_h[diploma_aps_h.V4720 < 40000]\n",
    "renda_aps_sem_h = sem_diploma_aps_h[sem_diploma_aps_h.V4720 < 0000]\n",
    "renda_aps_diploma_h.V4720.plot.box()"
   ]
  },
  {
   "cell_type": "code",
   "execution_count": 103,
   "metadata": {
    "collapsed": false
   },
   "outputs": [
    {
     "data": {
      "text/plain": [
       "<matplotlib.axes._subplots.AxesSubplot at 0x1762260b8>"
      ]
     },
     "execution_count": 103,
     "metadata": {},
     "output_type": "execute_result"
    },
    {
     "data": {
      "image/png": "[encoded data removed]",
      "text/plain": [
       "<matplotlib.figure.Figure at 0x17625a0f0>"
      ]
     },
     "metadata": {},
     "output_type": "display_data"
    }
   ],
   "source": [
    "renda_aps_sem_h.V4720.plot.box()"
   ]
  },
  {
   "cell_type": "code",
   "execution_count": 101,
   "metadata": {
    "collapsed": false
   },
   "outputs": [],
   "source": [
    "diploma_aps_m = aposentados_m[aposentados_m.V6007 >= 8] #coluna apenas com os trabalhadores que possuem diploma\n",
    "sem_diploma_aps_m = aposentados_m[aposentados_m.V6007 < 8]"
   ]
  },
  {
   "cell_type": "code",
   "execution_count": 105,
   "metadata": {
    "collapsed": false
   },
   "outputs": [
    {
     "data": {
      "text/plain": [
       "<matplotlib.axes._subplots.AxesSubplot at 0x16a185cf8>"
      ]
     },
     "execution_count": 105,
     "metadata": {},
     "output_type": "execute_result"
    },
    {
     "data": {
      "image/png": "[encoded data removed]",
      "text/plain": [
       "<matplotlib.figure.Figure at 0x16a155908>"
      ]
     },
     "metadata": {},
     "output_type": "display_data"
    }
   ],
   "source": [
    "renda_aps_diploma_m = diploma_aps_m[diploma_aps_m.V4720 < 40000]\n",
    "renda_aps_sem_m = sem_diploma_aps_m[sem_diploma_aps_m.V4720 < 40000]\n",
    "renda_aps_diploma_m.V4720.plot.box()"
   ]
  },
  {
   "cell_type": "code",
   "execution_count": 107,
   "metadata": {
    "collapsed": false
   },
   "outputs": [
    {
     "data": {
      "text/plain": [
       "<matplotlib.axes._subplots.AxesSubplot at 0x16a608a58>"
      ]
     },
     "execution_count": 107,
     "metadata": {},
     "output_type": "execute_result"
    },
    {
     "data": {
      "image/png": "[encoded data removed]",
      "text/plain": [
       "<matplotlib.figure.Figure at 0x16a60e240>"
      ]
     },
     "metadata": {},
     "output_type": "display_data"
    }
   ],
   "source": [
    "renda_aps_sem_m.V4742.plot.box()"
   ]
  },
  {
   "cell_type": "markdown",
   "metadata": {},
   "source": [
    "Os boxplots acima permitem constatar que a renda de homens e mulheres aposentados com diploma escolar é superior\n",
    "àquela de homens e mulheres sem diploma. Dentre os homens e mulheres com diploma, é possível ver que os valores\n",
    "dos quártis da mediana e do produto 1.5 X Intervalo Interquartil dos homens são mais elevados. Assim, é visível\n",
    "afirmar que a renda dos homens com diploma é superior à das mulheres. O mesmo é válido para os sem diploma, visto\n",
    "que os valores das mulheres não apareceram, uma vez que são muito pequenos e por isso ficaram ocultos na escala.\n"
   ]
  },
  {
   "cell_type": "markdown",
   "metadata": {},
   "source": [
    "___"
   ]
  },
  {
   "cell_type": "markdown",
   "metadata": {
    "collapsed": false
   },
   "source": [
    "___\n",
    "## Conclusão "
   ]
  },
  {
   "cell_type": "markdown",
   "metadata": {
    "collapsed": true
   },
   "source": [
    "Descreva aqui suas conclusões!"
   ]
  },
  {
   "cell_type": "markdown",
   "metadata": {
    "collapsed": true
   },
   "source": [
    "Após o término desse trabalho foi possível constatar que existe uma distribuição de renda sexista, entretanto, \n",
    "tal desigualdade está mais restrita à população economicamente ativa. Também pude fortalecer minha primeira premissa\n",
    "de que mulheres se aposentam mais cedo pois ocupam - se domesticamente, uma vez que o percentual de mulheres\n",
    "aposentadas a partir da idade legal para tanto é muito maior, mesmo que dados quanto à renda não demonstrem tamanha\n",
    "diferença, o que levaria a concluir que mulheres se aposentam pois os homens são os maiores responsáveis pela renda \n",
    "familiar."
   ]
  },
  {
   "cell_type": "code",
   "execution_count": null,
   "metadata": {
    "collapsed": true
   },
   "outputs": [],
   "source": []
  }
 ],
 "metadata": {
  "anaconda-cloud": {},
  "kernelspec": {
   "display_name": "Python 3",
   "language": "python",
   "name": "python3"
  },
  "language_info": {
   "codemirror_mode": {
    "name": "ipython",
    "version": 3
   },
   "file_extension": ".py",
   "mimetype": "text/x-python",
   "name": "python",
   "nbconvert_exporter": "python",
   "pygments_lexer": "ipython3",
   "version": "3.5.2"
  }
 },
 "nbformat": 4,
 "nbformat_minor": 0
}
